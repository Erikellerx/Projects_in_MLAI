{
  "cells": [
    {
      "cell_type": "markdown",
      "metadata": {
        "id": "view-in-github",
        "colab_type": "text"
      },
      "source": [
        "<a href=\"https://colab.research.google.com/github/Erikellerx/Projects_in_MLAI/blob/main/HW1.ipynb\" target=\"_parent\"><img src=\"https://colab.research.google.com/assets/colab-badge.svg\" alt=\"Open In Colab\"/></a>"
      ]
    },
    {
      "cell_type": "markdown",
      "source": [
        "# Data Preprocessing"
      ],
      "metadata": {
        "id": "vKQxhae_69MO"
      }
    },
    {
      "cell_type": "markdown",
      "metadata": {
        "id": "MUZni0lZ_FeZ"
      },
      "source": [
        "**Intro**\n",
        "\n",
        "Breast cancer, like other cancer, could cause severe damage to the human body. However, it is difficult to tell whether a cancer is malignant or benign, which might lead to a very different treatment. This notebook adopts data from the Breast Cancer Wisconsin (Diagnostic) Data Set, trying to solve and distinguish a cancer diagnosis given a digitized image of a needle aspirate of a breast mass. This problem can be ideally solved by logistic regression since the result is only M = malignant and B = benign."
      ]
    },
    {
      "cell_type": "code",
      "execution_count": null,
      "metadata": {
        "id": "E7_RT7pU9TXY"
      },
      "outputs": [],
      "source": [
        "import pandas as pd\n",
        "import matplotlib.pyplot as plt\n",
        "import seaborn as sns\n",
        "import numpy as np\n",
        "from sklearn.model_selection import train_test_split\n",
        "from sklearn.linear_model import LogisticRegression\n",
        "from sklearn.metrics import accuracy_score\n",
        "from sklearn.metrics import f1_score\n",
        "from sklearn.preprocessing import Normalizer\n",
        "import warnings\n",
        "import random\n",
        "warnings.filterwarnings(\"ignore\")"
      ]
    },
    {
      "cell_type": "code",
      "execution_count": null,
      "metadata": {
        "colab": {
          "base_uri": "https://localhost:8080/"
        },
        "id": "iq7lNSFPeye2",
        "outputId": "b375af71-62bb-47bb-dbe4-272155e537b1"
      },
      "outputs": [
        {
          "output_type": "stream",
          "name": "stdout",
          "text": [
            "Mounted at /content/drive/\n"
          ]
        }
      ],
      "source": [
        "from google.colab import drive\n",
        "drive.mount('/content/drive/')"
      ]
    },
    {
      "cell_type": "markdown",
      "source": [
        "**Getting Data**"
      ],
      "metadata": {
        "id": "9UhWzkBg_kyy"
      }
    },
    {
      "cell_type": "code",
      "execution_count": null,
      "metadata": {
        "colab": {
          "base_uri": "https://localhost:8080/",
          "height": 334
        },
        "id": "DKK5OTwefAWl",
        "outputId": "57791718-e434-46a9-e25e-cd3c3145a65d"
      },
      "outputs": [
        {
          "output_type": "stream",
          "name": "stdout",
          "text": [
            "/content\n"
          ]
        },
        {
          "output_type": "execute_result",
          "data": {
            "text/plain": [
              "         id diagnosis  radius_mean  texture_mean  perimeter_mean  area_mean  \\\n",
              "0    842302         M        17.99         10.38          122.80     1001.0   \n",
              "1    842517         M        20.57         17.77          132.90     1326.0   \n",
              "2  84300903         M        19.69         21.25          130.00     1203.0   \n",
              "3  84348301         M        11.42         20.38           77.58      386.1   \n",
              "4  84358402         M        20.29         14.34          135.10     1297.0   \n",
              "\n",
              "   smoothness_mean  compactness_mean  concavity_mean  concave points_mean  \\\n",
              "0          0.11840           0.27760          0.3001              0.14710   \n",
              "1          0.08474           0.07864          0.0869              0.07017   \n",
              "2          0.10960           0.15990          0.1974              0.12790   \n",
              "3          0.14250           0.28390          0.2414              0.10520   \n",
              "4          0.10030           0.13280          0.1980              0.10430   \n",
              "\n",
              "   ...  texture_worst  perimeter_worst  area_worst  smoothness_worst  \\\n",
              "0  ...          17.33           184.60      2019.0            0.1622   \n",
              "1  ...          23.41           158.80      1956.0            0.1238   \n",
              "2  ...          25.53           152.50      1709.0            0.1444   \n",
              "3  ...          26.50            98.87       567.7            0.2098   \n",
              "4  ...          16.67           152.20      1575.0            0.1374   \n",
              "\n",
              "   compactness_worst  concavity_worst  concave points_worst  symmetry_worst  \\\n",
              "0             0.6656           0.7119                0.2654          0.4601   \n",
              "1             0.1866           0.2416                0.1860          0.2750   \n",
              "2             0.4245           0.4504                0.2430          0.3613   \n",
              "3             0.8663           0.6869                0.2575          0.6638   \n",
              "4             0.2050           0.4000                0.1625          0.2364   \n",
              "\n",
              "   fractal_dimension_worst  Unnamed: 32  \n",
              "0                  0.11890          NaN  \n",
              "1                  0.08902          NaN  \n",
              "2                  0.08758          NaN  \n",
              "3                  0.17300          NaN  \n",
              "4                  0.07678          NaN  \n",
              "\n",
              "[5 rows x 33 columns]"
            ],
            "text/html": [
              "\n",
              "  <div id=\"df-1ed784f3-e6cb-4af2-a9ac-ccd48db930f8\">\n",
              "    <div class=\"colab-df-container\">\n",
              "      <div>\n",
              "<style scoped>\n",
              "    .dataframe tbody tr th:only-of-type {\n",
              "        vertical-align: middle;\n",
              "    }\n",
              "\n",
              "    .dataframe tbody tr th {\n",
              "        vertical-align: top;\n",
              "    }\n",
              "\n",
              "    .dataframe thead th {\n",
              "        text-align: right;\n",
              "    }\n",
              "</style>\n",
              "<table border=\"1\" class=\"dataframe\">\n",
              "  <thead>\n",
              "    <tr style=\"text-align: right;\">\n",
              "      <th></th>\n",
              "      <th>id</th>\n",
              "      <th>diagnosis</th>\n",
              "      <th>radius_mean</th>\n",
              "      <th>texture_mean</th>\n",
              "      <th>perimeter_mean</th>\n",
              "      <th>area_mean</th>\n",
              "      <th>smoothness_mean</th>\n",
              "      <th>compactness_mean</th>\n",
              "      <th>concavity_mean</th>\n",
              "      <th>concave points_mean</th>\n",
              "      <th>...</th>\n",
              "      <th>texture_worst</th>\n",
              "      <th>perimeter_worst</th>\n",
              "      <th>area_worst</th>\n",
              "      <th>smoothness_worst</th>\n",
              "      <th>compactness_worst</th>\n",
              "      <th>concavity_worst</th>\n",
              "      <th>concave points_worst</th>\n",
              "      <th>symmetry_worst</th>\n",
              "      <th>fractal_dimension_worst</th>\n",
              "      <th>Unnamed: 32</th>\n",
              "    </tr>\n",
              "  </thead>\n",
              "  <tbody>\n",
              "    <tr>\n",
              "      <th>0</th>\n",
              "      <td>842302</td>\n",
              "      <td>M</td>\n",
              "      <td>17.99</td>\n",
              "      <td>10.38</td>\n",
              "      <td>122.80</td>\n",
              "      <td>1001.0</td>\n",
              "      <td>0.11840</td>\n",
              "      <td>0.27760</td>\n",
              "      <td>0.3001</td>\n",
              "      <td>0.14710</td>\n",
              "      <td>...</td>\n",
              "      <td>17.33</td>\n",
              "      <td>184.60</td>\n",
              "      <td>2019.0</td>\n",
              "      <td>0.1622</td>\n",
              "      <td>0.6656</td>\n",
              "      <td>0.7119</td>\n",
              "      <td>0.2654</td>\n",
              "      <td>0.4601</td>\n",
              "      <td>0.11890</td>\n",
              "      <td>NaN</td>\n",
              "    </tr>\n",
              "    <tr>\n",
              "      <th>1</th>\n",
              "      <td>842517</td>\n",
              "      <td>M</td>\n",
              "      <td>20.57</td>\n",
              "      <td>17.77</td>\n",
              "      <td>132.90</td>\n",
              "      <td>1326.0</td>\n",
              "      <td>0.08474</td>\n",
              "      <td>0.07864</td>\n",
              "      <td>0.0869</td>\n",
              "      <td>0.07017</td>\n",
              "      <td>...</td>\n",
              "      <td>23.41</td>\n",
              "      <td>158.80</td>\n",
              "      <td>1956.0</td>\n",
              "      <td>0.1238</td>\n",
              "      <td>0.1866</td>\n",
              "      <td>0.2416</td>\n",
              "      <td>0.1860</td>\n",
              "      <td>0.2750</td>\n",
              "      <td>0.08902</td>\n",
              "      <td>NaN</td>\n",
              "    </tr>\n",
              "    <tr>\n",
              "      <th>2</th>\n",
              "      <td>84300903</td>\n",
              "      <td>M</td>\n",
              "      <td>19.69</td>\n",
              "      <td>21.25</td>\n",
              "      <td>130.00</td>\n",
              "      <td>1203.0</td>\n",
              "      <td>0.10960</td>\n",
              "      <td>0.15990</td>\n",
              "      <td>0.1974</td>\n",
              "      <td>0.12790</td>\n",
              "      <td>...</td>\n",
              "      <td>25.53</td>\n",
              "      <td>152.50</td>\n",
              "      <td>1709.0</td>\n",
              "      <td>0.1444</td>\n",
              "      <td>0.4245</td>\n",
              "      <td>0.4504</td>\n",
              "      <td>0.2430</td>\n",
              "      <td>0.3613</td>\n",
              "      <td>0.08758</td>\n",
              "      <td>NaN</td>\n",
              "    </tr>\n",
              "    <tr>\n",
              "      <th>3</th>\n",
              "      <td>84348301</td>\n",
              "      <td>M</td>\n",
              "      <td>11.42</td>\n",
              "      <td>20.38</td>\n",
              "      <td>77.58</td>\n",
              "      <td>386.1</td>\n",
              "      <td>0.14250</td>\n",
              "      <td>0.28390</td>\n",
              "      <td>0.2414</td>\n",
              "      <td>0.10520</td>\n",
              "      <td>...</td>\n",
              "      <td>26.50</td>\n",
              "      <td>98.87</td>\n",
              "      <td>567.7</td>\n",
              "      <td>0.2098</td>\n",
              "      <td>0.8663</td>\n",
              "      <td>0.6869</td>\n",
              "      <td>0.2575</td>\n",
              "      <td>0.6638</td>\n",
              "      <td>0.17300</td>\n",
              "      <td>NaN</td>\n",
              "    </tr>\n",
              "    <tr>\n",
              "      <th>4</th>\n",
              "      <td>84358402</td>\n",
              "      <td>M</td>\n",
              "      <td>20.29</td>\n",
              "      <td>14.34</td>\n",
              "      <td>135.10</td>\n",
              "      <td>1297.0</td>\n",
              "      <td>0.10030</td>\n",
              "      <td>0.13280</td>\n",
              "      <td>0.1980</td>\n",
              "      <td>0.10430</td>\n",
              "      <td>...</td>\n",
              "      <td>16.67</td>\n",
              "      <td>152.20</td>\n",
              "      <td>1575.0</td>\n",
              "      <td>0.1374</td>\n",
              "      <td>0.2050</td>\n",
              "      <td>0.4000</td>\n",
              "      <td>0.1625</td>\n",
              "      <td>0.2364</td>\n",
              "      <td>0.07678</td>\n",
              "      <td>NaN</td>\n",
              "    </tr>\n",
              "  </tbody>\n",
              "</table>\n",
              "<p>5 rows × 33 columns</p>\n",
              "</div>\n",
              "      <button class=\"colab-df-convert\" onclick=\"convertToInteractive('df-1ed784f3-e6cb-4af2-a9ac-ccd48db930f8')\"\n",
              "              title=\"Convert this dataframe to an interactive table.\"\n",
              "              style=\"display:none;\">\n",
              "        \n",
              "  <svg xmlns=\"http://www.w3.org/2000/svg\" height=\"24px\"viewBox=\"0 0 24 24\"\n",
              "       width=\"24px\">\n",
              "    <path d=\"M0 0h24v24H0V0z\" fill=\"none\"/>\n",
              "    <path d=\"M18.56 5.44l.94 2.06.94-2.06 2.06-.94-2.06-.94-.94-2.06-.94 2.06-2.06.94zm-11 1L8.5 8.5l.94-2.06 2.06-.94-2.06-.94L8.5 2.5l-.94 2.06-2.06.94zm10 10l.94 2.06.94-2.06 2.06-.94-2.06-.94-.94-2.06-.94 2.06-2.06.94z\"/><path d=\"M17.41 7.96l-1.37-1.37c-.4-.4-.92-.59-1.43-.59-.52 0-1.04.2-1.43.59L10.3 9.45l-7.72 7.72c-.78.78-.78 2.05 0 2.83L4 21.41c.39.39.9.59 1.41.59.51 0 1.02-.2 1.41-.59l7.78-7.78 2.81-2.81c.8-.78.8-2.07 0-2.86zM5.41 20L4 18.59l7.72-7.72 1.47 1.35L5.41 20z\"/>\n",
              "  </svg>\n",
              "      </button>\n",
              "      \n",
              "  <style>\n",
              "    .colab-df-container {\n",
              "      display:flex;\n",
              "      flex-wrap:wrap;\n",
              "      gap: 12px;\n",
              "    }\n",
              "\n",
              "    .colab-df-convert {\n",
              "      background-color: #E8F0FE;\n",
              "      border: none;\n",
              "      border-radius: 50%;\n",
              "      cursor: pointer;\n",
              "      display: none;\n",
              "      fill: #1967D2;\n",
              "      height: 32px;\n",
              "      padding: 0 0 0 0;\n",
              "      width: 32px;\n",
              "    }\n",
              "\n",
              "    .colab-df-convert:hover {\n",
              "      background-color: #E2EBFA;\n",
              "      box-shadow: 0px 1px 2px rgba(60, 64, 67, 0.3), 0px 1px 3px 1px rgba(60, 64, 67, 0.15);\n",
              "      fill: #174EA6;\n",
              "    }\n",
              "\n",
              "    [theme=dark] .colab-df-convert {\n",
              "      background-color: #3B4455;\n",
              "      fill: #D2E3FC;\n",
              "    }\n",
              "\n",
              "    [theme=dark] .colab-df-convert:hover {\n",
              "      background-color: #434B5C;\n",
              "      box-shadow: 0px 1px 3px 1px rgba(0, 0, 0, 0.15);\n",
              "      filter: drop-shadow(0px 1px 2px rgba(0, 0, 0, 0.3));\n",
              "      fill: #FFFFFF;\n",
              "    }\n",
              "  </style>\n",
              "\n",
              "      <script>\n",
              "        const buttonEl =\n",
              "          document.querySelector('#df-1ed784f3-e6cb-4af2-a9ac-ccd48db930f8 button.colab-df-convert');\n",
              "        buttonEl.style.display =\n",
              "          google.colab.kernel.accessAllowed ? 'block' : 'none';\n",
              "\n",
              "        async function convertToInteractive(key) {\n",
              "          const element = document.querySelector('#df-1ed784f3-e6cb-4af2-a9ac-ccd48db930f8');\n",
              "          const dataTable =\n",
              "            await google.colab.kernel.invokeFunction('convertToInteractive',\n",
              "                                                     [key], {});\n",
              "          if (!dataTable) return;\n",
              "\n",
              "          const docLinkHtml = 'Like what you see? Visit the ' +\n",
              "            '<a target=\"_blank\" href=https://colab.research.google.com/notebooks/data_table.ipynb>data table notebook</a>'\n",
              "            + ' to learn more about interactive tables.';\n",
              "          element.innerHTML = '';\n",
              "          dataTable['output_type'] = 'display_data';\n",
              "          await google.colab.output.renderOutput(dataTable, element);\n",
              "          const docLink = document.createElement('div');\n",
              "          docLink.innerHTML = docLinkHtml;\n",
              "          element.appendChild(docLink);\n",
              "        }\n",
              "      </script>\n",
              "    </div>\n",
              "  </div>\n",
              "  "
            ]
          },
          "metadata": {},
          "execution_count": 3
        }
      ],
      "source": [
        "!pwd\n",
        "# https://www.kaggle.com/datasets/uciml/breast-cancer-wisconsin-data\n",
        "df = pd.read_csv('./drive/MyDrive/UzmaML/data.csv')\n",
        "df.head()"
      ]
    },
    {
      "cell_type": "markdown",
      "source": [
        "**Check null values**"
      ],
      "metadata": {
        "id": "0CzLiFB-_ppy"
      }
    },
    {
      "cell_type": "code",
      "execution_count": null,
      "metadata": {
        "colab": {
          "base_uri": "https://localhost:8080/"
        },
        "id": "qokjfh87igwW",
        "outputId": "0178fce6-9ade-4edd-d245-4f90a6e4a438"
      },
      "outputs": [
        {
          "output_type": "execute_result",
          "data": {
            "text/plain": [
              "id                           0\n",
              "diagnosis                    0\n",
              "radius_mean                  0\n",
              "texture_mean                 0\n",
              "perimeter_mean               0\n",
              "area_mean                    0\n",
              "smoothness_mean              0\n",
              "compactness_mean             0\n",
              "concavity_mean               0\n",
              "concave points_mean          0\n",
              "symmetry_mean                0\n",
              "fractal_dimension_mean       0\n",
              "radius_se                    0\n",
              "texture_se                   0\n",
              "perimeter_se                 0\n",
              "area_se                      0\n",
              "smoothness_se                0\n",
              "compactness_se               0\n",
              "concavity_se                 0\n",
              "concave points_se            0\n",
              "symmetry_se                  0\n",
              "fractal_dimension_se         0\n",
              "radius_worst                 0\n",
              "texture_worst                0\n",
              "perimeter_worst              0\n",
              "area_worst                   0\n",
              "smoothness_worst             0\n",
              "compactness_worst            0\n",
              "concavity_worst              0\n",
              "concave points_worst         0\n",
              "symmetry_worst               0\n",
              "fractal_dimension_worst      0\n",
              "Unnamed: 32                569\n",
              "dtype: int64"
            ]
          },
          "metadata": {},
          "execution_count": 4
        }
      ],
      "source": [
        "df.isnull().sum()"
      ]
    },
    {
      "cell_type": "markdown",
      "metadata": {
        "id": "_zo-G09xdgDk"
      },
      "source": [
        "There is no missing values in this dataset. "
      ]
    },
    {
      "cell_type": "code",
      "execution_count": null,
      "metadata": {
        "colab": {
          "base_uri": "https://localhost:8080/"
        },
        "id": "sufCbBNOknyj",
        "outputId": "db4470c2-447f-4b0c-9024-8000a0d988b8"
      },
      "outputs": [
        {
          "output_type": "execute_result",
          "data": {
            "text/plain": [
              "(569, 33)"
            ]
          },
          "metadata": {},
          "execution_count": 5
        }
      ],
      "source": [
        "df.shape"
      ]
    },
    {
      "cell_type": "markdown",
      "source": [
        "**Drop the id and Unnamed param**"
      ],
      "metadata": {
        "id": "vyzUirra_x_K"
      }
    },
    {
      "cell_type": "code",
      "execution_count": null,
      "metadata": {
        "id": "ZlD7sL7afZtp",
        "colab": {
          "base_uri": "https://localhost:8080/"
        },
        "outputId": "1048dc90-55a2-4a66-9058-38eaaee51670"
      },
      "outputs": [
        {
          "output_type": "stream",
          "name": "stdout",
          "text": [
            "<class 'pandas.core.frame.DataFrame'>\n",
            "RangeIndex: 569 entries, 0 to 568\n",
            "Data columns (total 31 columns):\n",
            " #   Column                   Non-Null Count  Dtype  \n",
            "---  ------                   --------------  -----  \n",
            " 0   diagnosis                569 non-null    object \n",
            " 1   radius_mean              569 non-null    float64\n",
            " 2   texture_mean             569 non-null    float64\n",
            " 3   perimeter_mean           569 non-null    float64\n",
            " 4   area_mean                569 non-null    float64\n",
            " 5   smoothness_mean          569 non-null    float64\n",
            " 6   compactness_mean         569 non-null    float64\n",
            " 7   concavity_mean           569 non-null    float64\n",
            " 8   concave points_mean      569 non-null    float64\n",
            " 9   symmetry_mean            569 non-null    float64\n",
            " 10  fractal_dimension_mean   569 non-null    float64\n",
            " 11  radius_se                569 non-null    float64\n",
            " 12  texture_se               569 non-null    float64\n",
            " 13  perimeter_se             569 non-null    float64\n",
            " 14  area_se                  569 non-null    float64\n",
            " 15  smoothness_se            569 non-null    float64\n",
            " 16  compactness_se           569 non-null    float64\n",
            " 17  concavity_se             569 non-null    float64\n",
            " 18  concave points_se        569 non-null    float64\n",
            " 19  symmetry_se              569 non-null    float64\n",
            " 20  fractal_dimension_se     569 non-null    float64\n",
            " 21  radius_worst             569 non-null    float64\n",
            " 22  texture_worst            569 non-null    float64\n",
            " 23  perimeter_worst          569 non-null    float64\n",
            " 24  area_worst               569 non-null    float64\n",
            " 25  smoothness_worst         569 non-null    float64\n",
            " 26  compactness_worst        569 non-null    float64\n",
            " 27  concavity_worst          569 non-null    float64\n",
            " 28  concave points_worst     569 non-null    float64\n",
            " 29  symmetry_worst           569 non-null    float64\n",
            " 30  fractal_dimension_worst  569 non-null    float64\n",
            "dtypes: float64(30), object(1)\n",
            "memory usage: 137.9+ KB\n"
          ]
        }
      ],
      "source": [
        "df.drop(['Unnamed: 32',\"id\"], axis=1, inplace=True)\n",
        "df.info()"
      ]
    },
    {
      "cell_type": "markdown",
      "source": [
        "Attribute Information:\n",
        "\n",
        "1) ID number\n",
        "\n",
        "2) Diagnosis (M = malignant, B = benign)\n",
        "3-32)\n",
        "\n",
        "Ten real-valued features are computed for each cell nucleus:\n",
        "\n",
        "a) radius (mean of distances from center to points on the perimeter)\n",
        "\n",
        "b) texture (standard deviation of gray-scale values)\n",
        "\n",
        "c) perimeter\n",
        "\n",
        "d) area\n",
        "\n",
        "e) smoothness (local variation in radius lengths)\n",
        "\n",
        "f) compactness (perimeter^2 / area - 1.0)\n",
        "\n",
        "g) concavity (severity of concave portions of the contour)\n",
        "\n",
        "h) concave points (number of concave portions of the contour)\n",
        "\n",
        "i) symmetry\n",
        "\n",
        "j) fractal dimension (\"coastline approximation\" - 1)\n",
        "\n",
        "\n",
        "The mean, standard error and \"worst\" or largest (mean of the three\n",
        "largest values) of these features were computed for each image,\n",
        "resulting in 30 features. For instance, field 3 is Mean Radius, field\n",
        "13 is Radius SE, field 23 is Worst Radius.\n",
        "\n",
        "All feature values are recoded with four significant digits.\n",
        "\n",
        "Source: https://www.kaggle.com/datasets/uciml/breast-cancer-wisconsin-data"
      ],
      "metadata": {
        "id": "cFpi9q_AAXTh"
      }
    },
    {
      "cell_type": "markdown",
      "source": [
        "Graph below shows that malignant breast cancer tends to have a higher mean area.\n",
        "Benign cancer tends to have a centralized distribution. \n",
        "\n"
      ],
      "metadata": {
        "id": "FSYu42tTCNCf"
      }
    },
    {
      "cell_type": "code",
      "source": [
        "g = sns.FacetGrid(df, col='diagnosis', height=5)\n",
        "g.map(plt.hist, 'area_mean', bins=20)"
      ],
      "metadata": {
        "colab": {
          "base_uri": "https://localhost:8080/",
          "height": 386
        },
        "id": "nwQ6AXcHBnqN",
        "outputId": "69f0d2ef-d721-43e7-85c8-1245f05597f9"
      },
      "execution_count": null,
      "outputs": [
        {
          "output_type": "execute_result",
          "data": {
            "text/plain": [
              "<seaborn.axisgrid.FacetGrid at 0x7ff5192b5510>"
            ]
          },
          "metadata": {},
          "execution_count": 57
        },
        {
          "output_type": "display_data",
          "data": {
            "text/plain": [
              "<Figure size 720x360 with 2 Axes>"
            ],
            "image/png": "[encoded data removed]"
          },
          "metadata": {
            "needs_background": "light"
          }
        }
      ]
    },
    {
      "cell_type": "markdown",
      "source": [
        "Graph below shows that concave points worst has a strong relationship with the result of diagnosis. "
      ],
      "metadata": {
        "id": "luXmN3ftK-SL"
      }
    },
    {
      "cell_type": "code",
      "source": [
        "g = sns.FacetGrid(df, col='diagnosis', height=5)\n",
        "g.map(plt.hist, 'concave points_worst', bins=20)"
      ],
      "metadata": {
        "colab": {
          "base_uri": "https://localhost:8080/",
          "height": 386
        },
        "id": "h1JuZfjXK54M",
        "outputId": "5269a29f-a711-42ea-d5b6-08b5ca269c38"
      },
      "execution_count": null,
      "outputs": [
        {
          "output_type": "execute_result",
          "data": {
            "text/plain": [
              "<seaborn.axisgrid.FacetGrid at 0x7ff518fbd250>"
            ]
          },
          "metadata": {},
          "execution_count": 61
        },
        {
          "output_type": "display_data",
          "data": {
            "text/plain": [
              "<Figure size 720x360 with 2 Axes>"
            ],
            "image/png": "[encoded data removed]"
          },
          "metadata": {
            "needs_background": "light"
          }
        }
      ]
    },
    {
      "cell_type": "markdown",
      "source": [
        "**Features Correlation**\n",
        "\n",
        "Based on the heatmap and correlation value shown below. Our diagnosis(predicted value) strongly correlates with concave points worst, perimeter worst, etc. Also, some features are strongly correlated to each other. Some features may not significantly correlate to our diagnosis. But they are strongly correlated with other features that may be combined to impact our diagnosis result. "
      ],
      "metadata": {
        "id": "j7QN2PpaGi8i"
      }
    },
    {
      "cell_type": "code",
      "source": [
        "fig, ax = plt.subplots(figsize=(10,8))\n",
        "sns.heatmap(df.corr().abs(),annot=False, ax=ax, cmap='rocket_r')"
      ],
      "metadata": {
        "colab": {
          "base_uri": "https://localhost:8080/",
          "height": 616
        },
        "id": "RgSbPcvBGitf",
        "outputId": "f514f529-4d28-4f84-ed1f-5df9fed751b7"
      },
      "execution_count": null,
      "outputs": [
        {
          "output_type": "execute_result",
          "data": {
            "text/plain": [
              "<matplotlib.axes._subplots.AxesSubplot at 0x7ff5191670d0>"
            ]
          },
          "metadata": {},
          "execution_count": 58
        },
        {
          "output_type": "display_data",
          "data": {
            "text/plain": [
              "<Figure size 720x576 with 2 Axes>"
            ],
            "image/png": "[encoded data removed]"
          },
          "metadata": {
            "needs_background": "light"
          }
        }
      ]
    },
    {
      "cell_type": "code",
      "source": [
        "df.corr()['diagnosis'].sort_values(ascending=False)"
      ],
      "metadata": {
        "colab": {
          "base_uri": "https://localhost:8080/"
        },
        "id": "WF7vl34tGssA",
        "outputId": "ca8e2fbc-fc67-49fa-b758-eaefd254e8c4"
      },
      "execution_count": null,
      "outputs": [
        {
          "output_type": "execute_result",
          "data": {
            "text/plain": [
              "diagnosis                  1.000000\n",
              "concave points_worst       0.793566\n",
              "perimeter_worst            0.782914\n",
              "concave points_mean        0.776614\n",
              "radius_worst               0.776454\n",
              "perimeter_mean             0.742636\n",
              "area_worst                 0.733825\n",
              "radius_mean                0.730029\n",
              "area_mean                  0.708984\n",
              "concavity_mean             0.696360\n",
              "concavity_worst            0.659610\n",
              "compactness_mean           0.596534\n",
              "compactness_worst          0.590998\n",
              "radius_se                  0.567134\n",
              "perimeter_se               0.556141\n",
              "area_se                    0.548236\n",
              "texture_worst              0.456903\n",
              "smoothness_worst           0.421465\n",
              "symmetry_worst             0.416294\n",
              "texture_mean               0.415185\n",
              "concave points_se          0.408042\n",
              "smoothness_mean            0.358560\n",
              "symmetry_mean              0.330499\n",
              "fractal_dimension_worst    0.323872\n",
              "compactness_se             0.292999\n",
              "concavity_se               0.253730\n",
              "fractal_dimension_se       0.077972\n",
              "symmetry_se               -0.006522\n",
              "texture_se                -0.008303\n",
              "fractal_dimension_mean    -0.012838\n",
              "smoothness_se             -0.067016\n",
              "Name: diagnosis, dtype: float64"
            ]
          },
          "metadata": {},
          "execution_count": 59
        }
      ]
    },
    {
      "cell_type": "markdown",
      "metadata": {
        "id": "ke9D9REwfyLK"
      },
      "source": [
        "Below is the groundtruth value of our dataset. Noted that this result (B and M) doesn't evenly distributed together with the dataset is about individual's medical condition. It is important to focus more on f1 score and FP than merely accuracy."
      ]
    },
    {
      "cell_type": "code",
      "execution_count": null,
      "metadata": {
        "id": "QMTIdW3xepE4",
        "colab": {
          "base_uri": "https://localhost:8080/"
        },
        "outputId": "e8cc6452-8dd3-42ac-863d-15434cfabd69"
      },
      "outputs": [
        {
          "output_type": "execute_result",
          "data": {
            "text/plain": [
              "0    357\n",
              "1    212\n",
              "Name: diagnosis, dtype: int64"
            ]
          },
          "metadata": {},
          "execution_count": 9
        }
      ],
      "source": [
        "df['diagnosis'].value_counts()"
      ]
    },
    {
      "cell_type": "markdown",
      "source": [
        "**Data Normalization and split**"
      ],
      "metadata": {
        "id": "43dTw_mC7ERI"
      }
    },
    {
      "cell_type": "code",
      "execution_count": null,
      "metadata": {
        "id": "SFFNFtFTZIPE"
      },
      "outputs": [],
      "source": [
        "from sklearn import preprocessing\n",
        "\n",
        "#change M and B in prediction into 0 and 1\n",
        "if \"M\" in df.diagnosis.values or \"B\" in df.diagnosis.values : \n",
        "  df.diagnosis = [1 if each == \"M\" else 0 for each in df.diagnosis]\n",
        "pred = df.diagnosis.values\n",
        "data = df.drop(['diagnosis'], axis=1)\n",
        "#normalization\n",
        "data = ((data - np.min(data)) / (np.max(data) - np.min(data))).values\n",
        "\n",
        "X_train, X_test, y_train, y_test = train_test_split(data, pred, test_size=0.2, random_state=42)"
      ]
    },
    {
      "cell_type": "markdown",
      "source": [
        "# Logistic Regression"
      ],
      "metadata": {
        "id": "f68LQI437OOS"
      }
    },
    {
      "cell_type": "code",
      "execution_count": null,
      "metadata": {
        "id": "uqeOCz5mptIb"
      },
      "outputs": [],
      "source": [
        "import pdb\n",
        "\n",
        "def sigmoid(x):\n",
        "  return 1/(1 + np.exp(-x))\n",
        "\n",
        "def adagrad(cost, Gw, Gb, dw, db , lr, eps):\n",
        "  Gw += dw ** 2\n",
        "  Gb += db ** 2 \n",
        "  stepw = lr / (np.sqrt(Gw + eps)) * dw\n",
        "  stepb = lr / (np.sqrt(Gb + eps)) * db \n",
        "  return stepw, stepb\n",
        "\n",
        "\n",
        "class myLogisticRegression:\n",
        "\n",
        "  def __init__(self, maxiter = 10000, eps = 0.001, lr = 0.001):\n",
        "    self.maxiter = maxiter\n",
        "    self.eps = eps \n",
        "    self.lr = lr \n",
        "  \n",
        "  def fit(self,X_train, y_train, GD, verbose = False):\n",
        "    if(GD == \"Batch\"):\n",
        "      self.Batch(X_train,y_train,verbose = verbose)\n",
        "    else: \n",
        "      self.SGD(X_train,y_train, verbose = verbose)\n",
        "\n",
        "  def Batch(self, X_train, y_train, verbose = False, momentum = 0.9, optimization = \"Normal\"):\n",
        "    #initialize\n",
        "    w_t = np.zeros(X_train.shape[1]) #weight\n",
        "    t = 0 #epoch\n",
        "    b = 0 #bias\n",
        "    vw,vb = 0,0 #velocity for Momentum\n",
        "    loss = [] #cost/loss\n",
        "    Gw = np.zeros(X_train.shape[1]) # Adagrad w\n",
        "    Gb = 0 #Adagrad b\n",
        "    while(t < self.maxiter):\n",
        "      t += 1\n",
        "\n",
        "      #calculate cost and gradient\n",
        "      A = sigmoid(np.dot(w_t, X_train.T) + b) \n",
        "      cost = (-1/len(X_train)) * np.sum(y_train * np.log(A) + (1 - y_train) * np.log(1 - A))\n",
        "      dw = np.dot(X_train.T, (A - y_train).T) / len(X_train)\n",
        "      db = np.sum(A - y_train) / len(X_train)\n",
        "\n",
        "      #step\n",
        "      if optimization == \"Momentum\":\n",
        "        vw = momentum * vw + self.lr * dw\n",
        "        vb = momentum * vb + self.lr * db\n",
        "      elif optimization == \"adagrad\":\n",
        "        stepw, stepb = adagrad(cost, Gw, Gb, dw, db , self.lr, self.eps)\n",
        "\n",
        "      #update\n",
        "      if optimization == \"Normal\":\n",
        "        w_t = w_t - self.lr * dw\n",
        "        b = b - self.lr * db\n",
        "      elif optimization == \"Momentum\":\n",
        "        w_t = w_t - vw \n",
        "        b = b - vb \n",
        "      elif optimization == \"adagrad\":\n",
        "        w_t = w_t - stepw\n",
        "        b = b - stepb\n",
        "\n",
        "      #record loss and show result\n",
        "      if t % 10 == 0:\n",
        "        loss.append(cost)\n",
        "      if verbose and t % 1000 == 0:\n",
        "          print(\"Iteration: {}, Cost: {}\".format(t, cost))\n",
        "      if(cost <= self.eps):\n",
        "        break\n",
        "\n",
        "    #record weight and bias\n",
        "    self.w_t = w_t\n",
        "    self.b = b \n",
        "\n",
        "    #show loss graph\n",
        "    if verbose:\n",
        "      fig = plt.plot(loss)\n",
        "      plt.ylabel(\"Cost\")\n",
        "      plt.show()\n",
        "\n",
        "    return w_t, b, loss \n",
        "  \n",
        "\n",
        "  def SGD(self, X_train, y_train, verbose = False):\n",
        "    #initialize\n",
        "    w_t = np.zeros(X_train.shape[1]) #weight\n",
        "    t = 0 #epoch\n",
        "    b = 0 #bias\n",
        "    index = [n for n in range(len(X_train))] #index for randomly select\n",
        "    loss = [] #log loss \n",
        "\n",
        "    while(t < self.maxiter):\n",
        "      t += 1\n",
        "      random.shuffle(index) #random select\n",
        "      loss_total = 0\n",
        "      for i in index:\n",
        "        x = X_train[i]\n",
        "        y = y_train[i]\n",
        "\n",
        "        #step: calculate gradient and cost\n",
        "        A = sigmoid(np.dot(w_t, x.T) + b)    \n",
        "        cost = (-1) * (y * np.log(A) + (1 - y) * np.log(1 - A))\n",
        "        dw = np.dot(x.T, (A - y).T) / len(x) \n",
        "        db = np.sum(A - y) / len(x) \n",
        "\n",
        "        #update\n",
        "        w_t = w_t - self.lr * dw \n",
        "        b = b - self.lr * db \n",
        "        loss_total += cost\n",
        "\n",
        "        #check loss\n",
        "        if(cost <= self.eps):\n",
        "          self.w_t = w_t \n",
        "          self.b = b\n",
        "          break\n",
        "\n",
        "      loss.append(loss_total / len(index))\n",
        "      #verbose\n",
        "      if verbose and t % 1000 == 0:\n",
        "            print(\"Iteration: {}, Cost: {}\".format(t, cost))\n",
        "    if verbose:\n",
        "      fig = plt.plot(loss)\n",
        "      plt.ylabel(\"Cost\")\n",
        "      plt.show()\n",
        "         \n",
        "    self.w_t = w_t \n",
        "    self.b = b\n",
        "\n",
        "\n",
        "      \n",
        "  def predict(self, X_test):\n",
        "    result = sigmoid(np.dot(self.w_t, X_test.T) + self.b)\n",
        "    result[result > 0.5] = 1\n",
        "    result[result <= 0.5] = 0\n",
        "    return result \n"
      ]
    },
    {
      "cell_type": "markdown",
      "source": [
        "**Stochastic Gradient Ascent**"
      ],
      "metadata": {
        "id": "FJFK9W5Q7efF"
      }
    },
    {
      "cell_type": "code",
      "execution_count": null,
      "metadata": {
        "colab": {
          "base_uri": "https://localhost:8080/",
          "height": 473
        },
        "id": "aaHWvopOrRrJ",
        "outputId": "246d4ede-c61f-4b53-9781-aeb7c7bca423"
      },
      "outputs": [
        {
          "output_type": "stream",
          "name": "stdout",
          "text": [
            "Iteration: 1000, Cost: 0.4283352585640317\n",
            "Iteration: 2000, Cost: 0.27027458395592435\n",
            "Iteration: 3000, Cost: 0.20399190117275307\n",
            "Iteration: 4000, Cost: 0.0009704278266442977\n",
            "Iteration: 5000, Cost: 0.0006198409820025264\n",
            "Iteration: 6000, Cost: 0.00041353745442245166\n",
            "Iteration: 7000, Cost: 0.00027916221545152127\n",
            "Iteration: 8000, Cost: 0.00020121595148969094\n",
            "Iteration: 9000, Cost: 0.00016111547614812305\n",
            "Iteration: 10000, Cost: 0.0007130373692365957\n"
          ]
        },
        {
          "output_type": "display_data",
          "data": {
            "text/plain": [
              "<Figure size 432x288 with 1 Axes>"
            ],
            "image/png": "[encoded data removed]"
          },
          "metadata": {
            "needs_background": "light"
          }
        },
        {
          "output_type": "stream",
          "name": "stdout",
          "text": [
            "Acc:  0.956140350877193\n",
            "F1 score:  0.9397590361445783\n"
          ]
        }
      ],
      "source": [
        "model = myLogisticRegression(maxiter = 10000)\n",
        "model.fit(X_train, y_train, GD = \"SGD\", verbose = True)\n",
        "result1 = model.predict(X_test)\n",
        "\n",
        "print(\"Acc: \", accuracy_score(y_test, result1))\n",
        "print(\"F1 score: \",f1_score(y_test, result1) )"
      ]
    },
    {
      "cell_type": "markdown",
      "source": [
        "**Batch Gradient Descent**"
      ],
      "metadata": {
        "id": "6SspalRT6yjs"
      }
    },
    {
      "cell_type": "code",
      "source": [
        "model = myLogisticRegression(maxiter = 10000)\n",
        "model.fit(X_train, y_train, GD = \"Batch\", verbose = True)\n",
        "result2 = model.predict(X_test)\n",
        "\n",
        "print(\"Acc: \", accuracy_score(y_test, result2))\n",
        "print(\"F1 score: \",f1_score(y_test, result2) )"
      ],
      "metadata": {
        "colab": {
          "base_uri": "https://localhost:8080/",
          "height": 475
        },
        "id": "lzy9Il2f6mCn",
        "outputId": "7ead2532-8869-456c-dae8-d9fc5528cc83"
      },
      "execution_count": null,
      "outputs": [
        {
          "output_type": "stream",
          "name": "stdout",
          "text": [
            "Iteration: 1000, Cost: 0.6654383850795603\n",
            "Iteration: 2000, Cost: 0.6410736495813518\n",
            "Iteration: 3000, Cost: 0.6188577461993303\n",
            "Iteration: 4000, Cost: 0.5984069014439674\n",
            "Iteration: 5000, Cost: 0.5795196446660005\n",
            "Iteration: 6000, Cost: 0.5620415638474874\n",
            "Iteration: 7000, Cost: 0.5458378642596742\n",
            "Iteration: 8000, Cost: 0.5307875975010954\n",
            "Iteration: 9000, Cost: 0.5167819993073893\n",
            "Iteration: 10000, Cost: 0.5037234804548949\n"
          ]
        },
        {
          "output_type": "display_data",
          "data": {
            "text/plain": [
              "<Figure size 432x288 with 1 Axes>"
            ],
            "image/png": "[encoded data removed]"
          },
          "metadata": {
            "needs_background": "light"
          }
        },
        {
          "output_type": "stream",
          "name": "stdout",
          "text": [
            "Acc:  0.9122807017543859\n",
            "F1 score:  0.868421052631579\n"
          ]
        }
      ]
    },
    {
      "cell_type": "markdown",
      "source": [
        "**Batch with Momentum**"
      ],
      "metadata": {
        "id": "PpfmGaaSLQJu"
      }
    },
    {
      "cell_type": "code",
      "source": [
        "model = myLogisticRegression(maxiter = 10000, lr = 0.001)\n",
        "model.Batch(X_train, y_train, verbose = True, optimization = \"Momentum\")\n",
        "result3 = model.predict(X_test)\n",
        "\n",
        "print(\"Acc: \", accuracy_score(y_test, result3))\n",
        "print(\"F1 score: \",f1_score(y_test, result3) )"
      ],
      "metadata": {
        "colab": {
          "base_uri": "https://localhost:8080/",
          "height": 473
        },
        "id": "BbZMuuL78SL7",
        "outputId": "200b6a93-58ee-48df-a6ab-c01dbe0bd15b"
      },
      "execution_count": null,
      "outputs": [
        {
          "output_type": "stream",
          "name": "stdout",
          "text": [
            "Iteration: 1000, Cost: 0.5045294702723795\n",
            "Iteration: 2000, Cost: 0.4101464654808084\n",
            "Iteration: 3000, Cost: 0.35457383001368314\n",
            "Iteration: 4000, Cost: 0.31781202042499695\n",
            "Iteration: 5000, Cost: 0.2915090633171034\n",
            "Iteration: 6000, Cost: 0.271616890082892\n",
            "Iteration: 7000, Cost: 0.25594421530426836\n",
            "Iteration: 8000, Cost: 0.2432027654071196\n",
            "Iteration: 9000, Cost: 0.23258548020726655\n",
            "Iteration: 10000, Cost: 0.22356069605581322\n"
          ]
        },
        {
          "output_type": "display_data",
          "data": {
            "text/plain": [
              "<Figure size 432x288 with 1 Axes>"
            ],
            "image/png": "[encoded data removed]"
          },
          "metadata": {
            "needs_background": "light"
          }
        },
        {
          "output_type": "stream",
          "name": "stdout",
          "text": [
            "Acc:  0.956140350877193\n",
            "F1 score:  0.9397590361445783\n"
          ]
        }
      ]
    },
    {
      "cell_type": "markdown",
      "source": [
        "**Batch with Adagrad**"
      ],
      "metadata": {
        "id": "E-rdyKJgrlm3"
      }
    },
    {
      "cell_type": "code",
      "source": [
        "model = myLogisticRegression(maxiter = 10000, lr = 0.01)\n",
        "model.Batch(X_train, y_train, verbose = True, optimization = \"adagrad\")\n",
        "result4 = model.predict(X_test)\n",
        "\n",
        "print(\"Acc: \", accuracy_score(y_test, result4))\n",
        "print(\"F1 score: \",f1_score(y_test, result4) )"
      ],
      "metadata": {
        "colab": {
          "base_uri": "https://localhost:8080/",
          "height": 473
        },
        "id": "jfWA8D1ipHCP",
        "outputId": "d5966717-d362-4f73-a8df-77080cf3ebce"
      },
      "execution_count": null,
      "outputs": [
        {
          "output_type": "stream",
          "name": "stdout",
          "text": [
            "Iteration: 1000, Cost: 0.31315457443370565\n",
            "Iteration: 2000, Cost: 0.2575783679601028\n",
            "Iteration: 3000, Cost: 0.22855369951550325\n",
            "Iteration: 4000, Cost: 0.20967099155574997\n",
            "Iteration: 5000, Cost: 0.1960395147428558\n",
            "Iteration: 6000, Cost: 0.18556397232521388\n",
            "Iteration: 7000, Cost: 0.17716662755090248\n",
            "Iteration: 8000, Cost: 0.1702263980599497\n",
            "Iteration: 9000, Cost: 0.1643560010391885\n",
            "Iteration: 10000, Cost: 0.15929941319481225\n"
          ]
        },
        {
          "output_type": "display_data",
          "data": {
            "text/plain": [
              "<Figure size 432x288 with 1 Axes>"
            ],
            "image/png": "[encoded data removed]"
          },
          "metadata": {
            "needs_background": "light"
          }
        },
        {
          "output_type": "stream",
          "name": "stdout",
          "text": [
            "Acc:  0.9649122807017544\n",
            "F1 score:  0.951219512195122\n"
          ]
        }
      ]
    },
    {
      "cell_type": "markdown",
      "source": [
        "#Result Analysis"
      ],
      "metadata": {
        "id": "YWjQKm5z7kZw"
      }
    },
    {
      "cell_type": "markdown",
      "source": [
        "Above, I implement both **Batch Gradient Descend** and **SGD** together with two optimizers (**Momentum** and **Adagrad**) targeting to improve performance in Batch Gradient Descend. I set the max iteration to be 10000 and the learning rate 0.001 except 0.01 when implementing adagrad optimizer. The training will terminate if the cost is lower than 0.001 to prevent overfitting. The momentum is set to 0.9, as suggested. \n",
        "\n",
        "\n",
        "**Gradient Descent variants**: As the cost graph clearly shows, Batch and SGD have unique patterns due to different means to update the gradient. Batch Gradient Descent is very efficient in terms of running time. It can achieve a decent result in a limited time, but there is still much room to improve. SGD, on the other hand, took a much longer time to compute. And it does have a unique fluctuation as loss is dropping, which is similar to what the paper indicated. This fluctuation makes the result jump to new and potentially better local minima. This can also be shown by the result of accuracy and f1 score. \n",
        "\n",
        "**Batch adding optimizer**: I implement Momentum and adagrad. By adding an optimizer, we can clearly see from the graph above that two optimizers can lead to converging quicker and better results. It is definitely a positive impact when we include an optimizer in our algorithm. When comparing Momentum and adagrad, adagrad initially didn't perform well when we set the learning rate to 0.001, even though I increased the number of iterations. However, after going through the paper again, I set the learning rate to 0.01, which is suggested. The performance of adagrad increases dramatically and outperforms Momentum.  \n",
        "\n",
        "I also utilize packages from sklearn below as a reference. The result shows that the Batch + optimizer can match the result and performance from sklearn. \n",
        "\n"
      ],
      "metadata": {
        "id": "-gcFspV8QTy8"
      }
    },
    {
      "cell_type": "code",
      "execution_count": null,
      "metadata": {
        "colab": {
          "base_uri": "https://localhost:8080/"
        },
        "id": "DmOTz4tRlGhA",
        "outputId": "b9dda9bd-fcba-47b8-e7e3-d9b5c0f71b25"
      },
      "outputs": [
        {
          "output_type": "stream",
          "name": "stdout",
          "text": [
            "Acc:  0.9122807017543859\n",
            "F1 score:  0.888888888888889\n"
          ]
        }
      ],
      "source": [
        "model = LogisticRegression(class_weight='balanced', penalty = 'none')\n",
        "model.fit(X_train,y_train)\n",
        "y_pred = model.predict(X_test)\n",
        "print(\"Acc: \", accuracy_score(y_test, y_pred))\n",
        "print(\"F1 score: \",f1_score(y_test, y_pred) )"
      ]
    },
    {
      "cell_type": "markdown",
      "source": [
        "Below are the confusion matrix projected onto a heat map."
      ],
      "metadata": {
        "id": "etb4MYmfIyMu"
      }
    },
    {
      "cell_type": "code",
      "execution_count": null,
      "metadata": {
        "colab": {
          "base_uri": "https://localhost:8080/",
          "height": 1000
        },
        "id": "7jRwW5wz8ug0",
        "outputId": "930d498f-67a0-4a5c-e57e-d8e2fd686c3c"
      },
      "outputs": [
        {
          "output_type": "display_data",
          "data": {
            "text/plain": [
              "<Figure size 432x288 with 2 Axes>"
            ],
            "image/png": "[encoded data removed]"
          },
          "metadata": {
            "needs_background": "light"
          }
        },
        {
          "output_type": "display_data",
          "data": {
            "text/plain": [
              "<Figure size 432x288 with 2 Axes>"
            ],
            "image/png": "[encoded data removed]"
          },
          "metadata": {
            "needs_background": "light"
          }
        },
        {
          "output_type": "display_data",
          "data": {
            "text/plain": [
              "<Figure size 432x288 with 2 Axes>"
            ],
            "image/png": "[encoded data removed]"
          },
          "metadata": {
            "needs_background": "light"
          }
        },
        {
          "output_type": "display_data",
          "data": {
            "text/plain": [
              "<Figure size 432x288 with 2 Axes>"
            ],
            "image/png": "[encoded data removed]"
          },
          "metadata": {
            "needs_background": "light"
          }
        },
        {
          "output_type": "display_data",
          "data": {
            "text/plain": [
              "<Figure size 432x288 with 2 Axes>"
            ],
            "image/png": "[encoded data removed]"
          },
          "metadata": {
            "needs_background": "light"
          }
        }
      ],
      "source": [
        "from sklearn.metrics import confusion_matrix,recall_score,precision_recall_curve,auc,roc_curve,roc_auc_score,classification_report\n",
        "confusionMatrix1=confusion_matrix(y_test,result1)\n",
        "confusionMatrix2=confusion_matrix(y_test,result2)\n",
        "confusionMatrix3=confusion_matrix(y_test,result3)\n",
        "confusionMatrix4=confusion_matrix(y_test,result4)\n",
        "confusionMatrix5=confusion_matrix(y_test,y_pred)\n",
        "\n",
        "\n",
        "sns.heatmap(confusionMatrix1,cmap=\"coolwarm_r\",annot=True,linewidths=0.5)\n",
        "plt.title(\"SGD\")\n",
        "plt.xlabel(\"Predicted_class\")\n",
        "plt.ylabel(\"Real class\")\n",
        "plt.show()\n",
        "\n",
        "sns.heatmap(confusionMatrix2,cmap=\"coolwarm_r\",annot=True,linewidths=0.5)\n",
        "plt.title(\"Batch w/out optimizer\")\n",
        "plt.xlabel(\"Predicted_class\")\n",
        "plt.ylabel(\"Real class\")\n",
        "plt.show()\n",
        "\n",
        "sns.heatmap(confusionMatrix3,cmap=\"coolwarm_r\",annot=True,linewidths=0.5)\n",
        "plt.title(\"Batch w/ Momentum\")\n",
        "plt.xlabel(\"Predicted_class\")\n",
        "plt.ylabel(\"Real class\")\n",
        "plt.show()\n",
        "\n",
        "sns.heatmap(confusionMatrix4,cmap=\"coolwarm_r\",annot=True,linewidths=0.5)\n",
        "plt.title(\"Batch w/ Adagrad\")\n",
        "plt.xlabel(\"Predicted_class\")\n",
        "plt.ylabel(\"Real class\")\n",
        "plt.show()\n",
        "\n",
        "sns.heatmap(confusionMatrix5,cmap=\"coolwarm_r\",annot=True,linewidths=0.5)\n",
        "plt.title(\"Sklearn Reference\")\n",
        "plt.xlabel(\"Predicted_class\")\n",
        "plt.ylabel(\"Real class\")\n",
        "plt.show()"
      ]
    }
  ],
  "metadata": {
    "colab": {
      "collapsed_sections": [],
      "provenance": [],
      "authorship_tag": "ABX9TyOEcg6DNPV/s//ZdYOUoT3s",
      "include_colab_link": true
    },
    "kernelspec": {
      "display_name": "Python 3",
      "name": "python3"
    },
    "language_info": {
      "name": "python"
    }
  },
  "nbformat": 4,
  "nbformat_minor": 0
}