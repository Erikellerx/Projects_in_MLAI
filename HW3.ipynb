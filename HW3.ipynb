{
  "nbformat": 4,
  "nbformat_minor": 0,
  "metadata": {
    "colab": {
      "provenance": [],
      "machine_shape": "hm",
      "collapsed_sections": [],
      "authorship_tag": "ABX9TyNLcQGmq+IWOJfelASCAv1X",
      "include_colab_link": true
    },
    "kernelspec": {
      "name": "python3",
      "display_name": "Python 3"
    },
    "language_info": {
      "name": "python"
    },
    "accelerator": "GPU",
    "gpuClass": "standard",
    "widgets": {
      "application/vnd.jupyter.widget-state+json": {
        "d3c557fcadce4ef1a14e0457f499fdca": {
          "model_module": "@jupyter-widgets/controls",
          "model_name": "HBoxModel",
          "model_module_version": "1.5.0",
          "state": {
            "_dom_classes": [],
            "_model_module": "@jupyter-widgets/controls",
            "_model_module_version": "1.5.0",
            "_model_name": "HBoxModel",
            "_view_count": null,
            "_view_module": "@jupyter-widgets/controls",
            "_view_module_version": "1.5.0",
            "_view_name": "HBoxView",
            "box_style": "",
            "children": [
              "IPY_MODEL_ae1b44658edb4d34810a6c27559cd416",
              "IPY_MODEL_f161defbd0504d5c88f17984a17d06df",
              "IPY_MODEL_bad69d4efba34ec6b41379db05e2396f"
            ],
            "layout": "IPY_MODEL_c82c59a4c7e24369999f7610848c537f"
          }
        },
        "ae1b44658edb4d34810a6c27559cd416": {
          "model_module": "@jupyter-widgets/controls",
          "model_name": "HTMLModel",
          "model_module_version": "1.5.0",
          "state": {
            "_dom_classes": [],
            "_model_module": "@jupyter-widgets/controls",
            "_model_module_version": "1.5.0",
            "_model_name": "HTMLModel",
            "_view_count": null,
            "_view_module": "@jupyter-widgets/controls",
            "_view_module_version": "1.5.0",
            "_view_name": "HTMLView",
            "description": "",
            "description_tooltip": null,
            "layout": "IPY_MODEL_ef79c5de26374c27aca494551a62e561",
            "placeholder": "​",
            "style": "IPY_MODEL_ca2466881943422c92c66f26f150db41",
            "value": "100%"
          }
        },
        "f161defbd0504d5c88f17984a17d06df": {
          "model_module": "@jupyter-widgets/controls",
          "model_name": "FloatProgressModel",
          "model_module_version": "1.5.0",
          "state": {
            "_dom_classes": [],
            "_model_module": "@jupyter-widgets/controls",
            "_model_module_version": "1.5.0",
            "_model_name": "FloatProgressModel",
            "_view_count": null,
            "_view_module": "@jupyter-widgets/controls",
            "_view_module_version": "1.5.0",
            "_view_name": "ProgressView",
            "bar_style": "success",
            "description": "",
            "description_tooltip": null,
            "layout": "IPY_MODEL_88fd5004c0434ba8ab287b3785a00229",
            "max": 9912422,
            "min": 0,
            "orientation": "horizontal",
            "style": "IPY_MODEL_20d748adf90e4853b88f27e58380ea0c",
            "value": 9912422
          }
        },
        "bad69d4efba34ec6b41379db05e2396f": {
          "model_module": "@jupyter-widgets/controls",
          "model_name": "HTMLModel",
          "model_module_version": "1.5.0",
          "state": {
            "_dom_classes": [],
            "_model_module": "@jupyter-widgets/controls",
            "_model_module_version": "1.5.0",
            "_model_name": "HTMLModel",
            "_view_count": null,
            "_view_module": "@jupyter-widgets/controls",
            "_view_module_version": "1.5.0",
            "_view_name": "HTMLView",
            "description": "",
            "description_tooltip": null,
            "layout": "IPY_MODEL_def12e2e5a654dffb43a3d032b32e4d8",
            "placeholder": "​",
            "style": "IPY_MODEL_acf860571dba4b7cb85e08da237303ce",
            "value": " 9912422/9912422 [00:00&lt;00:00, 28201588.64it/s]"
          }
        },
        "c82c59a4c7e24369999f7610848c537f": {
          "model_module": "@jupyter-widgets/base",
          "model_name": "LayoutModel",
          "model_module_version": "1.2.0",
          "state": {
            "_model_module": "@jupyter-widgets/base",
            "_model_module_version": "1.2.0",
            "_model_name": "LayoutModel",
            "_view_count": null,
            "_view_module": "@jupyter-widgets/base",
            "_view_module_version": "1.2.0",
            "_view_name": "LayoutView",
            "align_content": null,
            "align_items": null,
            "align_self": null,
            "border": null,
            "bottom": null,
            "display": null,
            "flex": null,
            "flex_flow": null,
            "grid_area": null,
            "grid_auto_columns": null,
            "grid_auto_flow": null,
            "grid_auto_rows": null,
            "grid_column": null,
            "grid_gap": null,
            "grid_row": null,
            "grid_template_areas": null,
            "grid_template_columns": null,
            "grid_template_rows": null,
            "height": null,
            "justify_content": null,
            "justify_items": null,
            "left": null,
            "margin": null,
            "max_height": null,
            "max_width": null,
            "min_height": null,
            "min_width": null,
            "object_fit": null,
            "object_position": null,
            "order": null,
            "overflow": null,
            "overflow_x": null,
            "overflow_y": null,
            "padding": null,
            "right": null,
            "top": null,
            "visibility": null,
            "width": null
          }
        },
        "ef79c5de26374c27aca494551a62e561": {
          "model_module": "@jupyter-widgets/base",
          "model_name": "LayoutModel",
          "model_module_version": "1.2.0",
          "state": {
            "_model_module": "@jupyter-widgets/base",
            "_model_module_version": "1.2.0",
            "_model_name": "LayoutModel",
            "_view_count": null,
            "_view_module": "@jupyter-widgets/base",
            "_view_module_version": "1.2.0",
            "_view_name": "LayoutView",
            "align_content": null,
            "align_items": null,
            "align_self": null,
            "border": null,
            "bottom": null,
            "display": null,
            "flex": null,
            "flex_flow": null,
            "grid_area": null,
            "grid_auto_columns": null,
            "grid_auto_flow": null,
            "grid_auto_rows": null,
            "grid_column": null,
            "grid_gap": null,
            "grid_row": null,
            "grid_template_areas": null,
            "grid_template_columns": null,
            "grid_template_rows": null,
            "height": null,
            "justify_content": null,
            "justify_items": null,
            "left": null,
            "margin": null,
            "max_height": null,
            "max_width": null,
            "min_height": null,
            "min_width": null,
            "object_fit": null,
            "object_position": null,
            "order": null,
            "overflow": null,
            "overflow_x": null,
            "overflow_y": null,
            "padding": null,
            "right": null,
            "top": null,
            "visibility": null,
            "width": null
          }
        },
        "ca2466881943422c92c66f26f150db41": {
          "model_module": "@jupyter-widgets/controls",
          "model_name": "DescriptionStyleModel",
          "model_module_version": "1.5.0",
          "state": {
            "_model_module": "@jupyter-widgets/controls",
            "_model_module_version": "1.5.0",
            "_model_name": "DescriptionStyleModel",
            "_view_count": null,
            "_view_module": "@jupyter-widgets/base",
            "_view_module_version": "1.2.0",
            "_view_name": "StyleView",
            "description_width": ""
          }
        },
        "88fd5004c0434ba8ab287b3785a00229": {
          "model_module": "@jupyter-widgets/base",
          "model_name": "LayoutModel",
          "model_module_version": "1.2.0",
          "state": {
            "_model_module": "@jupyter-widgets/base",
            "_model_module_version": "1.2.0",
            "_model_name": "LayoutModel",
            "_view_count": null,
            "_view_module": "@jupyter-widgets/base",
            "_view_module_version": "1.2.0",
            "_view_name": "LayoutView",
            "align_content": null,
            "align_items": null,
            "align_self": null,
            "border": null,
            "bottom": null,
            "display": null,
            "flex": null,
            "flex_flow": null,
            "grid_area": null,
            "grid_auto_columns": null,
            "grid_auto_flow": null,
            "grid_auto_rows": null,
            "grid_column": null,
            "grid_gap": null,
            "grid_row": null,
            "grid_template_areas": null,
            "grid_template_columns": null,
            "grid_template_rows": null,
            "height": null,
            "justify_content": null,
            "justify_items": null,
            "left": null,
            "margin": null,
            "max_height": null,
            "max_width": null,
            "min_height": null,
            "min_width": null,
            "object_fit": null,
            "object_position": null,
            "order": null,
            "overflow": null,
            "overflow_x": null,
            "overflow_y": null,
            "padding": null,
            "right": null,
            "top": null,
            "visibility": null,
            "width": null
          }
        },
        "20d748adf90e4853b88f27e58380ea0c": {
          "model_module": "@jupyter-widgets/controls",
          "model_name": "ProgressStyleModel",
          "model_module_version": "1.5.0",
          "state": {
            "_model_module": "@jupyter-widgets/controls",
            "_model_module_version": "1.5.0",
            "_model_name": "ProgressStyleModel",
            "_view_count": null,
            "_view_module": "@jupyter-widgets/base",
            "_view_module_version": "1.2.0",
            "_view_name": "StyleView",
            "bar_color": null,
            "description_width": ""
          }
        },
        "def12e2e5a654dffb43a3d032b32e4d8": {
          "model_module": "@jupyter-widgets/base",
          "model_name": "LayoutModel",
          "model_module_version": "1.2.0",
          "state": {
            "_model_module": "@jupyter-widgets/base",
            "_model_module_version": "1.2.0",
            "_model_name": "LayoutModel",
            "_view_count": null,
            "_view_module": "@jupyter-widgets/base",
            "_view_module_version": "1.2.0",
            "_view_name": "LayoutView",
            "align_content": null,
            "align_items": null,
            "align_self": null,
            "border": null,
            "bottom": null,
            "display": null,
            "flex": null,
            "flex_flow": null,
            "grid_area": null,
            "grid_auto_columns": null,
            "grid_auto_flow": null,
            "grid_auto_rows": null,
            "grid_column": null,
            "grid_gap": null,
            "grid_row": null,
            "grid_template_areas": null,
            "grid_template_columns": null,
            "grid_template_rows": null,
            "height": null,
            "justify_content": null,
            "justify_items": null,
            "left": null,
            "margin": null,
            "max_height": null,
            "max_width": null,
            "min_height": null,
            "min_width": null,
            "object_fit": null,
            "object_position": null,
            "order": null,
            "overflow": null,
            "overflow_x": null,
            "overflow_y": null,
            "padding": null,
            "right": null,
            "top": null,
            "visibility": null,
            "width": null
          }
        },
        "acf860571dba4b7cb85e08da237303ce": {
          "model_module": "@jupyter-widgets/controls",
          "model_name": "DescriptionStyleModel",
          "model_module_version": "1.5.0",
          "state": {
            "_model_module": "@jupyter-widgets/controls",
            "_model_module_version": "1.5.0",
            "_model_name": "DescriptionStyleModel",
            "_view_count": null,
            "_view_module": "@jupyter-widgets/base",
            "_view_module_version": "1.2.0",
            "_view_name": "StyleView",
            "description_width": ""
          }
        },
        "293398831d5045a99983b8fbad980e2f": {
          "model_module": "@jupyter-widgets/controls",
          "model_name": "HBoxModel",
          "model_module_version": "1.5.0",
          "state": {
            "_dom_classes": [],
            "_model_module": "@jupyter-widgets/controls",
            "_model_module_version": "1.5.0",
            "_model_name": "HBoxModel",
            "_view_count": null,
            "_view_module": "@jupyter-widgets/controls",
            "_view_module_version": "1.5.0",
            "_view_name": "HBoxView",
            "box_style": "",
            "children": [
              "IPY_MODEL_b8cec9ce189a4e9f94f177c62a5540b3",
              "IPY_MODEL_b7da483a8ddb433b9abd154b1a54d230",
              "IPY_MODEL_6fdfa18d5eca4fb2a579f81aa0b143c9"
            ],
            "layout": "IPY_MODEL_8cb8bd18d63e4650beca950bdbe74248"
          }
        },
        "b8cec9ce189a4e9f94f177c62a5540b3": {
          "model_module": "@jupyter-widgets/controls",
          "model_name": "HTMLModel",
          "model_module_version": "1.5.0",
          "state": {
            "_dom_classes": [],
            "_model_module": "@jupyter-widgets/controls",
            "_model_module_version": "1.5.0",
            "_model_name": "HTMLModel",
            "_view_count": null,
            "_view_module": "@jupyter-widgets/controls",
            "_view_module_version": "1.5.0",
            "_view_name": "HTMLView",
            "description": "",
            "description_tooltip": null,
            "layout": "IPY_MODEL_99a7891f5e0d449d8e6718f54a129ba8",
            "placeholder": "​",
            "style": "IPY_MODEL_d61bb198d7f54922b298ab20ed67673e",
            "value": "100%"
          }
        },
        "b7da483a8ddb433b9abd154b1a54d230": {
          "model_module": "@jupyter-widgets/controls",
          "model_name": "FloatProgressModel",
          "model_module_version": "1.5.0",
          "state": {
            "_dom_classes": [],
            "_model_module": "@jupyter-widgets/controls",
            "_model_module_version": "1.5.0",
            "_model_name": "FloatProgressModel",
            "_view_count": null,
            "_view_module": "@jupyter-widgets/controls",
            "_view_module_version": "1.5.0",
            "_view_name": "ProgressView",
            "bar_style": "success",
            "description": "",
            "description_tooltip": null,
            "layout": "IPY_MODEL_62de98c598024807a391df852d54bdd2",
            "max": 28881,
            "min": 0,
            "orientation": "horizontal",
            "style": "IPY_MODEL_6a879cd0c9434d09a367f704049bbd99",
            "value": 28881
          }
        },
        "6fdfa18d5eca4fb2a579f81aa0b143c9": {
          "model_module": "@jupyter-widgets/controls",
          "model_name": "HTMLModel",
          "model_module_version": "1.5.0",
          "state": {
            "_dom_classes": [],
            "_model_module": "@jupyter-widgets/controls",
            "_model_module_version": "1.5.0",
            "_model_name": "HTMLModel",
            "_view_count": null,
            "_view_module": "@jupyter-widgets/controls",
            "_view_module_version": "1.5.0",
            "_view_name": "HTMLView",
            "description": "",
            "description_tooltip": null,
            "layout": "IPY_MODEL_4e3e21fc04be49a1a6ec5b9408019017",
            "placeholder": "​",
            "style": "IPY_MODEL_a08904b2612f4f5285e48a2abdabc83b",
            "value": " 28881/28881 [00:00&lt;00:00, 965432.35it/s]"
          }
        },
        "8cb8bd18d63e4650beca950bdbe74248": {
          "model_module": "@jupyter-widgets/base",
          "model_name": "LayoutModel",
          "model_module_version": "1.2.0",
          "state": {
            "_model_module": "@jupyter-widgets/base",
            "_model_module_version": "1.2.0",
            "_model_name": "LayoutModel",
            "_view_count": null,
            "_view_module": "@jupyter-widgets/base",
            "_view_module_version": "1.2.0",
            "_view_name": "LayoutView",
            "align_content": null,
            "align_items": null,
            "align_self": null,
            "border": null,
            "bottom": null,
            "display": null,
            "flex": null,
            "flex_flow": null,
            "grid_area": null,
            "grid_auto_columns": null,
            "grid_auto_flow": null,
            "grid_auto_rows": null,
            "grid_column": null,
            "grid_gap": null,
            "grid_row": null,
            "grid_template_areas": null,
            "grid_template_columns": null,
            "grid_template_rows": null,
            "height": null,
            "justify_content": null,
            "justify_items": null,
            "left": null,
            "margin": null,
            "max_height": null,
            "max_width": null,
            "min_height": null,
            "min_width": null,
            "object_fit": null,
            "object_position": null,
            "order": null,
            "overflow": null,
            "overflow_x": null,
            "overflow_y": null,
            "padding": null,
            "right": null,
            "top": null,
            "visibility": null,
            "width": null
          }
        },
        "99a7891f5e0d449d8e6718f54a129ba8": {
          "model_module": "@jupyter-widgets/base",
          "model_name": "LayoutModel",
          "model_module_version": "1.2.0",
          "state": {
            "_model_module": "@jupyter-widgets/base",
            "_model_module_version": "1.2.0",
            "_model_name": "LayoutModel",
            "_view_count": null,
            "_view_module": "@jupyter-widgets/base",
            "_view_module_version": "1.2.0",
            "_view_name": "LayoutView",
            "align_content": null,
            "align_items": null,
            "align_self": null,
            "border": null,
            "bottom": null,
            "display": null,
            "flex": null,
            "flex_flow": null,
            "grid_area": null,
            "grid_auto_columns": null,
            "grid_auto_flow": null,
            "grid_auto_rows": null,
            "grid_column": null,
            "grid_gap": null,
            "grid_row": null,
            "grid_template_areas": null,
            "grid_template_columns": null,
            "grid_template_rows": null,
            "height": null,
            "justify_content": null,
            "justify_items": null,
            "left": null,
            "margin": null,
            "max_height": null,
            "max_width": null,
            "min_height": null,
            "min_width": null,
            "object_fit": null,
            "object_position": null,
            "order": null,
            "overflow": null,
            "overflow_x": null,
            "overflow_y": null,
            "padding": null,
            "right": null,
            "top": null,
            "visibility": null,
            "width": null
          }
        },
        "d61bb198d7f54922b298ab20ed67673e": {
          "model_module": "@jupyter-widgets/controls",
          "model_name": "DescriptionStyleModel",
          "model_module_version": "1.5.0",
          "state": {
            "_model_module": "@jupyter-widgets/controls",
            "_model_module_version": "1.5.0",
            "_model_name": "DescriptionStyleModel",
            "_view_count": null,
            "_view_module": "@jupyter-widgets/base",
            "_view_module_version": "1.2.0",
            "_view_name": "StyleView",
            "description_width": ""
          }
        },
        "62de98c598024807a391df852d54bdd2": {
          "model_module": "@jupyter-widgets/base",
          "model_name": "LayoutModel",
          "model_module_version": "1.2.0",
          "state": {
            "_model_module": "@jupyter-widgets/base",
            "_model_module_version": "1.2.0",
            "_model_name": "LayoutModel",
            "_view_count": null,
            "_view_module": "@jupyter-widgets/base",
            "_view_module_version": "1.2.0",
            "_view_name": "LayoutView",
            "align_content": null,
            "align_items": null,
            "align_self": null,
            "border": null,
            "bottom": null,
            "display": null,
            "flex": null,
            "flex_flow": null,
            "grid_area": null,
            "grid_auto_columns": null,
            "grid_auto_flow": null,
            "grid_auto_rows": null,
            "grid_column": null,
            "grid_gap": null,
            "grid_row": null,
            "grid_template_areas": null,
            "grid_template_columns": null,
            "grid_template_rows": null,
            "height": null,
            "justify_content": null,
            "justify_items": null,
            "left": null,
            "margin": null,
            "max_height": null,
            "max_width": null,
            "min_height": null,
            "min_width": null,
            "object_fit": null,
            "object_position": null,
            "order": null,
            "overflow": null,
            "overflow_x": null,
            "overflow_y": null,
            "padding": null,
            "right": null,
            "top": null,
            "visibility": null,
            "width": null
          }
        },
        "6a879cd0c9434d09a367f704049bbd99": {
          "model_module": "@jupyter-widgets/controls",
          "model_name": "ProgressStyleModel",
          "model_module_version": "1.5.0",
          "state": {
            "_model_module": "@jupyter-widgets/controls",
            "_model_module_version": "1.5.0",
            "_model_name": "ProgressStyleModel",
            "_view_count": null,
            "_view_module": "@jupyter-widgets/base",
            "_view_module_version": "1.2.0",
            "_view_name": "StyleView",
            "bar_color": null,
            "description_width": ""
          }
        },
        "4e3e21fc04be49a1a6ec5b9408019017": {
          "model_module": "@jupyter-widgets/base",
          "model_name": "LayoutModel",
          "model_module_version": "1.2.0",
          "state": {
            "_model_module": "@jupyter-widgets/base",
            "_model_module_version": "1.2.0",
            "_model_name": "LayoutModel",
            "_view_count": null,
            "_view_module": "@jupyter-widgets/base",
            "_view_module_version": "1.2.0",
            "_view_name": "LayoutView",
            "align_content": null,
            "align_items": null,
            "align_self": null,
            "border": null,
            "bottom": null,
            "display": null,
            "flex": null,
            "flex_flow": null,
            "grid_area": null,
            "grid_auto_columns": null,
            "grid_auto_flow": null,
            "grid_auto_rows": null,
            "grid_column": null,
            "grid_gap": null,
            "grid_row": null,
            "grid_template_areas": null,
            "grid_template_columns": null,
            "grid_template_rows": null,
            "height": null,
            "justify_content": null,
            "justify_items": null,
            "left": null,
            "margin": null,
            "max_height": null,
            "max_width": null,
            "min_height": null,
            "min_width": null,
            "object_fit": null,
            "object_position": null,
            "order": null,
            "overflow": null,
            "overflow_x": null,
            "overflow_y": null,
            "padding": null,
            "right": null,
            "top": null,
            "visibility": null,
            "width": null
          }
        },
        "a08904b2612f4f5285e48a2abdabc83b": {
          "model_module": "@jupyter-widgets/controls",
          "model_name": "DescriptionStyleModel",
          "model_module_version": "1.5.0",
          "state": {
            "_model_module": "@jupyter-widgets/controls",
            "_model_module_version": "1.5.0",
            "_model_name": "DescriptionStyleModel",
            "_view_count": null,
            "_view_module": "@jupyter-widgets/base",
            "_view_module_version": "1.2.0",
            "_view_name": "StyleView",
            "description_width": ""
          }
        },
        "6b72ee52c81f4462bd491619fccdafbc": {
          "model_module": "@jupyter-widgets/controls",
          "model_name": "HBoxModel",
          "model_module_version": "1.5.0",
          "state": {
            "_dom_classes": [],
            "_model_module": "@jupyter-widgets/controls",
            "_model_module_version": "1.5.0",
            "_model_name": "HBoxModel",
            "_view_count": null,
            "_view_module": "@jupyter-widgets/controls",
            "_view_module_version": "1.5.0",
            "_view_name": "HBoxView",
            "box_style": "",
            "children": [
              "IPY_MODEL_0de70d75575a4a79b48a86ab4135e710",
              "IPY_MODEL_5247283411594fc9b3893a6c0e2ebeed",
              "IPY_MODEL_fd912a3a714a43c494b6b2a3957ef671"
            ],
            "layout": "IPY_MODEL_4beaa68a3e9e40c4a0d4c846b1e1a1df"
          }
        },
        "0de70d75575a4a79b48a86ab4135e710": {
          "model_module": "@jupyter-widgets/controls",
          "model_name": "HTMLModel",
          "model_module_version": "1.5.0",
          "state": {
            "_dom_classes": [],
            "_model_module": "@jupyter-widgets/controls",
            "_model_module_version": "1.5.0",
            "_model_name": "HTMLModel",
            "_view_count": null,
            "_view_module": "@jupyter-widgets/controls",
            "_view_module_version": "1.5.0",
            "_view_name": "HTMLView",
            "description": "",
            "description_tooltip": null,
            "layout": "IPY_MODEL_a86a71e8698a4e7eb5df086bca8fa02e",
            "placeholder": "​",
            "style": "IPY_MODEL_22b2ece2352243dba01121157145f4f9",
            "value": "100%"
          }
        },
        "5247283411594fc9b3893a6c0e2ebeed": {
          "model_module": "@jupyter-widgets/controls",
          "model_name": "FloatProgressModel",
          "model_module_version": "1.5.0",
          "state": {
            "_dom_classes": [],
            "_model_module": "@jupyter-widgets/controls",
            "_model_module_version": "1.5.0",
            "_model_name": "FloatProgressModel",
            "_view_count": null,
            "_view_module": "@jupyter-widgets/controls",
            "_view_module_version": "1.5.0",
            "_view_name": "ProgressView",
            "bar_style": "success",
            "description": "",
            "description_tooltip": null,
            "layout": "IPY_MODEL_85655f30f44d44428642f5b171687c3a",
            "max": 1648877,
            "min": 0,
            "orientation": "horizontal",
            "style": "IPY_MODEL_9579d11bc7314909aca6fd54333582bb",
            "value": 1648877
          }
        },
        "fd912a3a714a43c494b6b2a3957ef671": {
          "model_module": "@jupyter-widgets/controls",
          "model_name": "HTMLModel",
          "model_module_version": "1.5.0",
          "state": {
            "_dom_classes": [],
            "_model_module": "@jupyter-widgets/controls",
            "_model_module_version": "1.5.0",
            "_model_name": "HTMLModel",
            "_view_count": null,
            "_view_module": "@jupyter-widgets/controls",
            "_view_module_version": "1.5.0",
            "_view_name": "HTMLView",
            "description": "",
            "description_tooltip": null,
            "layout": "IPY_MODEL_b13f4e3bb3fa4b3c955047a76db731eb",
            "placeholder": "​",
            "style": "IPY_MODEL_12f1b8dec38947409b42d945eb00e02d",
            "value": " 1648877/1648877 [00:00&lt;00:00, 3008476.80it/s]"
          }
        },
        "4beaa68a3e9e40c4a0d4c846b1e1a1df": {
          "model_module": "@jupyter-widgets/base",
          "model_name": "LayoutModel",
          "model_module_version": "1.2.0",
          "state": {
            "_model_module": "@jupyter-widgets/base",
            "_model_module_version": "1.2.0",
            "_model_name": "LayoutModel",
            "_view_count": null,
            "_view_module": "@jupyter-widgets/base",
            "_view_module_version": "1.2.0",
            "_view_name": "LayoutView",
            "align_content": null,
            "align_items": null,
            "align_self": null,
            "border": null,
            "bottom": null,
            "display": null,
            "flex": null,
            "flex_flow": null,
            "grid_area": null,
            "grid_auto_columns": null,
            "grid_auto_flow": null,
            "grid_auto_rows": null,
            "grid_column": null,
            "grid_gap": null,
            "grid_row": null,
            "grid_template_areas": null,
            "grid_template_columns": null,
            "grid_template_rows": null,
            "height": null,
            "justify_content": null,
            "justify_items": null,
            "left": null,
            "margin": null,
            "max_height": null,
            "max_width": null,
            "min_height": null,
            "min_width": null,
            "object_fit": null,
            "object_position": null,
            "order": null,
            "overflow": null,
            "overflow_x": null,
            "overflow_y": null,
            "padding": null,
            "right": null,
            "top": null,
            "visibility": null,
            "width": null
          }
        },
        "a86a71e8698a4e7eb5df086bca8fa02e": {
          "model_module": "@jupyter-widgets/base",
          "model_name": "LayoutModel",
          "model_module_version": "1.2.0",
          "state": {
            "_model_module": "@jupyter-widgets/base",
            "_model_module_version": "1.2.0",
            "_model_name": "LayoutModel",
            "_view_count": null,
            "_view_module": "@jupyter-widgets/base",
            "_view_module_version": "1.2.0",
            "_view_name": "LayoutView",
            "align_content": null,
            "align_items": null,
            "align_self": null,
            "border": null,
            "bottom": null,
            "display": null,
            "flex": null,
            "flex_flow": null,
            "grid_area": null,
            "grid_auto_columns": null,
            "grid_auto_flow": null,
            "grid_auto_rows": null,
            "grid_column": null,
            "grid_gap": null,
            "grid_row": null,
            "grid_template_areas": null,
            "grid_template_columns": null,
            "grid_template_rows": null,
            "height": null,
            "justify_content": null,
            "justify_items": null,
            "left": null,
            "margin": null,
            "max_height": null,
            "max_width": null,
            "min_height": null,
            "min_width": null,
            "object_fit": null,
            "object_position": null,
            "order": null,
            "overflow": null,
            "overflow_x": null,
            "overflow_y": null,
            "padding": null,
            "right": null,
            "top": null,
            "visibility": null,
            "width": null
          }
        },
        "22b2ece2352243dba01121157145f4f9": {
          "model_module": "@jupyter-widgets/controls",
          "model_name": "DescriptionStyleModel",
          "model_module_version": "1.5.0",
          "state": {
            "_model_module": "@jupyter-widgets/controls",
            "_model_module_version": "1.5.0",
            "_model_name": "DescriptionStyleModel",
            "_view_count": null,
            "_view_module": "@jupyter-widgets/base",
            "_view_module_version": "1.2.0",
            "_view_name": "StyleView",
            "description_width": ""
          }
        },
        "85655f30f44d44428642f5b171687c3a": {
          "model_module": "@jupyter-widgets/base",
          "model_name": "LayoutModel",
          "model_module_version": "1.2.0",
          "state": {
            "_model_module": "@jupyter-widgets/base",
            "_model_module_version": "1.2.0",
            "_model_name": "LayoutModel",
            "_view_count": null,
            "_view_module": "@jupyter-widgets/base",
            "_view_module_version": "1.2.0",
            "_view_name": "LayoutView",
            "align_content": null,
            "align_items": null,
            "align_self": null,
            "border": null,
            "bottom": null,
            "display": null,
            "flex": null,
            "flex_flow": null,
            "grid_area": null,
            "grid_auto_columns": null,
            "grid_auto_flow": null,
            "grid_auto_rows": null,
            "grid_column": null,
            "grid_gap": null,
            "grid_row": null,
            "grid_template_areas": null,
            "grid_template_columns": null,
            "grid_template_rows": null,
            "height": null,
            "justify_content": null,
            "justify_items": null,
            "left": null,
            "margin": null,
            "max_height": null,
            "max_width": null,
            "min_height": null,
            "min_width": null,
            "object_fit": null,
            "object_position": null,
            "order": null,
            "overflow": null,
            "overflow_x": null,
            "overflow_y": null,
            "padding": null,
            "right": null,
            "top": null,
            "visibility": null,
            "width": null
          }
        },
        "9579d11bc7314909aca6fd54333582bb": {
          "model_module": "@jupyter-widgets/controls",
          "model_name": "ProgressStyleModel",
          "model_module_version": "1.5.0",
          "state": {
            "_model_module": "@jupyter-widgets/controls",
            "_model_module_version": "1.5.0",
            "_model_name": "ProgressStyleModel",
            "_view_count": null,
            "_view_module": "@jupyter-widgets/base",
            "_view_module_version": "1.2.0",
            "_view_name": "StyleView",
            "bar_color": null,
            "description_width": ""
          }
        },
        "b13f4e3bb3fa4b3c955047a76db731eb": {
          "model_module": "@jupyter-widgets/base",
          "model_name": "LayoutModel",
          "model_module_version": "1.2.0",
          "state": {
            "_model_module": "@jupyter-widgets/base",
            "_model_module_version": "1.2.0",
            "_model_name": "LayoutModel",
            "_view_count": null,
            "_view_module": "@jupyter-widgets/base",
            "_view_module_version": "1.2.0",
            "_view_name": "LayoutView",
            "align_content": null,
            "align_items": null,
            "align_self": null,
            "border": null,
            "bottom": null,
            "display": null,
            "flex": null,
            "flex_flow": null,
            "grid_area": null,
            "grid_auto_columns": null,
            "grid_auto_flow": null,
            "grid_auto_rows": null,
            "grid_column": null,
            "grid_gap": null,
            "grid_row": null,
            "grid_template_areas": null,
            "grid_template_columns": null,
            "grid_template_rows": null,
            "height": null,
            "justify_content": null,
            "justify_items": null,
            "left": null,
            "margin": null,
            "max_height": null,
            "max_width": null,
            "min_height": null,
            "min_width": null,
            "object_fit": null,
            "object_position": null,
            "order": null,
            "overflow": null,
            "overflow_x": null,
            "overflow_y": null,
            "padding": null,
            "right": null,
            "top": null,
            "visibility": null,
            "width": null
          }
        },
        "12f1b8dec38947409b42d945eb00e02d": {
          "model_module": "@jupyter-widgets/controls",
          "model_name": "DescriptionStyleModel",
          "model_module_version": "1.5.0",
          "state": {
            "_model_module": "@jupyter-widgets/controls",
            "_model_module_version": "1.5.0",
            "_model_name": "DescriptionStyleModel",
            "_view_count": null,
            "_view_module": "@jupyter-widgets/base",
            "_view_module_version": "1.2.0",
            "_view_name": "StyleView",
            "description_width": ""
          }
        },
        "fb276e3a45ba43b18008aa532df3cc02": {
          "model_module": "@jupyter-widgets/controls",
          "model_name": "HBoxModel",
          "model_module_version": "1.5.0",
          "state": {
            "_dom_classes": [],
            "_model_module": "@jupyter-widgets/controls",
            "_model_module_version": "1.5.0",
            "_model_name": "HBoxModel",
            "_view_count": null,
            "_view_module": "@jupyter-widgets/controls",
            "_view_module_version": "1.5.0",
            "_view_name": "HBoxView",
            "box_style": "",
            "children": [
              "IPY_MODEL_a74f587256314d959f4b5865d281d5db",
              "IPY_MODEL_5fa31ecc82b84a3d8f1a972d34dca327",
              "IPY_MODEL_ea8ba663db314391bc85c62848d5837b"
            ],
            "layout": "IPY_MODEL_49b1e4160a3f45e5a28678426e62cff9"
          }
        },
        "a74f587256314d959f4b5865d281d5db": {
          "model_module": "@jupyter-widgets/controls",
          "model_name": "HTMLModel",
          "model_module_version": "1.5.0",
          "state": {
            "_dom_classes": [],
            "_model_module": "@jupyter-widgets/controls",
            "_model_module_version": "1.5.0",
            "_model_name": "HTMLModel",
            "_view_count": null,
            "_view_module": "@jupyter-widgets/controls",
            "_view_module_version": "1.5.0",
            "_view_name": "HTMLView",
            "description": "",
            "description_tooltip": null,
            "layout": "IPY_MODEL_c1e1eccaf747482a9f010570d8d9929b",
            "placeholder": "​",
            "style": "IPY_MODEL_60c8de923dfa4651b07717f94998363e",
            "value": "100%"
          }
        },
        "5fa31ecc82b84a3d8f1a972d34dca327": {
          "model_module": "@jupyter-widgets/controls",
          "model_name": "FloatProgressModel",
          "model_module_version": "1.5.0",
          "state": {
            "_dom_classes": [],
            "_model_module": "@jupyter-widgets/controls",
            "_model_module_version": "1.5.0",
            "_model_name": "FloatProgressModel",
            "_view_count": null,
            "_view_module": "@jupyter-widgets/controls",
            "_view_module_version": "1.5.0",
            "_view_name": "ProgressView",
            "bar_style": "success",
            "description": "",
            "description_tooltip": null,
            "layout": "IPY_MODEL_1aeead3ffad5446796107461baeea955",
            "max": 4542,
            "min": 0,
            "orientation": "horizontal",
            "style": "IPY_MODEL_fa50b33992b74169a0c0c608444d05c5",
            "value": 4542
          }
        },
        "ea8ba663db314391bc85c62848d5837b": {
          "model_module": "@jupyter-widgets/controls",
          "model_name": "HTMLModel",
          "model_module_version": "1.5.0",
          "state": {
            "_dom_classes": [],
            "_model_module": "@jupyter-widgets/controls",
            "_model_module_version": "1.5.0",
            "_model_name": "HTMLModel",
            "_view_count": null,
            "_view_module": "@jupyter-widgets/controls",
            "_view_module_version": "1.5.0",
            "_view_name": "HTMLView",
            "description": "",
            "description_tooltip": null,
            "layout": "IPY_MODEL_75e7f6712f774f30a0a64b831776faaf",
            "placeholder": "​",
            "style": "IPY_MODEL_c9e7b45372b446bf867d165f5831c4da",
            "value": " 4542/4542 [00:00&lt;00:00, 150649.47it/s]"
          }
        },
        "49b1e4160a3f45e5a28678426e62cff9": {
          "model_module": "@jupyter-widgets/base",
          "model_name": "LayoutModel",
          "model_module_version": "1.2.0",
          "state": {
            "_model_module": "@jupyter-widgets/base",
            "_model_module_version": "1.2.0",
            "_model_name": "LayoutModel",
            "_view_count": null,
            "_view_module": "@jupyter-widgets/base",
            "_view_module_version": "1.2.0",
            "_view_name": "LayoutView",
            "align_content": null,
            "align_items": null,
            "align_self": null,
            "border": null,
            "bottom": null,
            "display": null,
            "flex": null,
            "flex_flow": null,
            "grid_area": null,
            "grid_auto_columns": null,
            "grid_auto_flow": null,
            "grid_auto_rows": null,
            "grid_column": null,
            "grid_gap": null,
            "grid_row": null,
            "grid_template_areas": null,
            "grid_template_columns": null,
            "grid_template_rows": null,
            "height": null,
            "justify_content": null,
            "justify_items": null,
            "left": null,
            "margin": null,
            "max_height": null,
            "max_width": null,
            "min_height": null,
            "min_width": null,
            "object_fit": null,
            "object_position": null,
            "order": null,
            "overflow": null,
            "overflow_x": null,
            "overflow_y": null,
            "padding": null,
            "right": null,
            "top": null,
            "visibility": null,
            "width": null
          }
        },
        "c1e1eccaf747482a9f010570d8d9929b": {
          "model_module": "@jupyter-widgets/base",
          "model_name": "LayoutModel",
          "model_module_version": "1.2.0",
          "state": {
            "_model_module": "@jupyter-widgets/base",
            "_model_module_version": "1.2.0",
            "_model_name": "LayoutModel",
            "_view_count": null,
            "_view_module": "@jupyter-widgets/base",
            "_view_module_version": "1.2.0",
            "_view_name": "LayoutView",
            "align_content": null,
            "align_items": null,
            "align_self": null,
            "border": null,
            "bottom": null,
            "display": null,
            "flex": null,
            "flex_flow": null,
            "grid_area": null,
            "grid_auto_columns": null,
            "grid_auto_flow": null,
            "grid_auto_rows": null,
            "grid_column": null,
            "grid_gap": null,
            "grid_row": null,
            "grid_template_areas": null,
            "grid_template_columns": null,
            "grid_template_rows": null,
            "height": null,
            "justify_content": null,
            "justify_items": null,
            "left": null,
            "margin": null,
            "max_height": null,
            "max_width": null,
            "min_height": null,
            "min_width": null,
            "object_fit": null,
            "object_position": null,
            "order": null,
            "overflow": null,
            "overflow_x": null,
            "overflow_y": null,
            "padding": null,
            "right": null,
            "top": null,
            "visibility": null,
            "width": null
          }
        },
        "60c8de923dfa4651b07717f94998363e": {
          "model_module": "@jupyter-widgets/controls",
          "model_name": "DescriptionStyleModel",
          "model_module_version": "1.5.0",
          "state": {
            "_model_module": "@jupyter-widgets/controls",
            "_model_module_version": "1.5.0",
            "_model_name": "DescriptionStyleModel",
            "_view_count": null,
            "_view_module": "@jupyter-widgets/base",
            "_view_module_version": "1.2.0",
            "_view_name": "StyleView",
            "description_width": ""
          }
        },
        "1aeead3ffad5446796107461baeea955": {
          "model_module": "@jupyter-widgets/base",
          "model_name": "LayoutModel",
          "model_module_version": "1.2.0",
          "state": {
            "_model_module": "@jupyter-widgets/base",
            "_model_module_version": "1.2.0",
            "_model_name": "LayoutModel",
            "_view_count": null,
            "_view_module": "@jupyter-widgets/base",
            "_view_module_version": "1.2.0",
            "_view_name": "LayoutView",
            "align_content": null,
            "align_items": null,
            "align_self": null,
            "border": null,
            "bottom": null,
            "display": null,
            "flex": null,
            "flex_flow": null,
            "grid_area": null,
            "grid_auto_columns": null,
            "grid_auto_flow": null,
            "grid_auto_rows": null,
            "grid_column": null,
            "grid_gap": null,
            "grid_row": null,
            "grid_template_areas": null,
            "grid_template_columns": null,
            "grid_template_rows": null,
            "height": null,
            "justify_content": null,
            "justify_items": null,
            "left": null,
            "margin": null,
            "max_height": null,
            "max_width": null,
            "min_height": null,
            "min_width": null,
            "object_fit": null,
            "object_position": null,
            "order": null,
            "overflow": null,
            "overflow_x": null,
            "overflow_y": null,
            "padding": null,
            "right": null,
            "top": null,
            "visibility": null,
            "width": null
          }
        },
        "fa50b33992b74169a0c0c608444d05c5": {
          "model_module": "@jupyter-widgets/controls",
          "model_name": "ProgressStyleModel",
          "model_module_version": "1.5.0",
          "state": {
            "_model_module": "@jupyter-widgets/controls",
            "_model_module_version": "1.5.0",
            "_model_name": "ProgressStyleModel",
            "_view_count": null,
            "_view_module": "@jupyter-widgets/base",
            "_view_module_version": "1.2.0",
            "_view_name": "StyleView",
            "bar_color": null,
            "description_width": ""
          }
        },
        "75e7f6712f774f30a0a64b831776faaf": {
          "model_module": "@jupyter-widgets/base",
          "model_name": "LayoutModel",
          "model_module_version": "1.2.0",
          "state": {
            "_model_module": "@jupyter-widgets/base",
            "_model_module_version": "1.2.0",
            "_model_name": "LayoutModel",
            "_view_count": null,
            "_view_module": "@jupyter-widgets/base",
            "_view_module_version": "1.2.0",
            "_view_name": "LayoutView",
            "align_content": null,
            "align_items": null,
            "align_self": null,
            "border": null,
            "bottom": null,
            "display": null,
            "flex": null,
            "flex_flow": null,
            "grid_area": null,
            "grid_auto_columns": null,
            "grid_auto_flow": null,
            "grid_auto_rows": null,
            "grid_column": null,
            "grid_gap": null,
            "grid_row": null,
            "grid_template_areas": null,
            "grid_template_columns": null,
            "grid_template_rows": null,
            "height": null,
            "justify_content": null,
            "justify_items": null,
            "left": null,
            "margin": null,
            "max_height": null,
            "max_width": null,
            "min_height": null,
            "min_width": null,
            "object_fit": null,
            "object_position": null,
            "order": null,
            "overflow": null,
            "overflow_x": null,
            "overflow_y": null,
            "padding": null,
            "right": null,
            "top": null,
            "visibility": null,
            "width": null
          }
        },
        "c9e7b45372b446bf867d165f5831c4da": {
          "model_module": "@jupyter-widgets/controls",
          "model_name": "DescriptionStyleModel",
          "model_module_version": "1.5.0",
          "state": {
            "_model_module": "@jupyter-widgets/controls",
            "_model_module_version": "1.5.0",
            "_model_name": "DescriptionStyleModel",
            "_view_count": null,
            "_view_module": "@jupyter-widgets/base",
            "_view_module_version": "1.2.0",
            "_view_name": "StyleView",
            "description_width": ""
          }
        }
      }
    }
  },
  "cells": [
    {
      "cell_type": "markdown",
      "metadata": {
        "id": "view-in-github",
        "colab_type": "text"
      },
      "source": [
        "<a href=\"https://colab.research.google.com/github/Erikellerx/Projects_in_MLAI/blob/main/HW3.ipynb\" target=\"_parent\"><img src=\"https://colab.research.google.com/assets/colab-badge.svg\" alt=\"Open In Colab\"/></a>"
      ]
    },
    {
      "cell_type": "code",
      "source": [
        "!nvidia-smi"
      ],
      "metadata": {
        "id": "X4NUhiPJvVpu",
        "colab": {
          "base_uri": "https://localhost:8080/"
        },
        "outputId": "c7874e8e-a993-446a-e5da-cb6a4c376e26"
      },
      "execution_count": 1,
      "outputs": [
        {
          "output_type": "stream",
          "name": "stdout",
          "text": [
            "Fri Oct  7 04:48:47 2022       \n",
            "+-----------------------------------------------------------------------------+\n",
            "| NVIDIA-SMI 460.32.03    Driver Version: 460.32.03    CUDA Version: 11.2     |\n",
            "|-------------------------------+----------------------+----------------------+\n",
            "| GPU  Name        Persistence-M| Bus-Id        Disp.A | Volatile Uncorr. ECC |\n",
            "| Fan  Temp  Perf  Pwr:Usage/Cap|         Memory-Usage | GPU-Util  Compute M. |\n",
            "|                               |                      |               MIG M. |\n",
            "|===============================+======================+======================|\n",
            "|   0  Tesla T4            Off  | 00000000:00:04.0 Off |                    0 |\n",
            "| N/A   45C    P8     9W /  70W |      0MiB / 15109MiB |      0%      Default |\n",
            "|                               |                      |                  N/A |\n",
            "+-------------------------------+----------------------+----------------------+\n",
            "                                                                               \n",
            "+-----------------------------------------------------------------------------+\n",
            "| Processes:                                                                  |\n",
            "|  GPU   GI   CI        PID   Type   Process name                  GPU Memory |\n",
            "|        ID   ID                                                   Usage      |\n",
            "|=============================================================================|\n",
            "|  No running processes found                                                 |\n",
            "+-----------------------------------------------------------------------------+\n"
          ]
        }
      ]
    },
    {
      "cell_type": "markdown",
      "source": [
        "**Research of Framework**\n",
        "\n",
        "I first went through some documentation of PyTorch and some example of how to create a NN using Pytorch. Since I am using google colab, there is no need for me to install PyTorch and figure out the environment setup. However, I still leave a link below about installation.  \n",
        "\n",
        "Link: https://pytorch.org/docs/stable/index.html  https://pytorch.org/ https://www.kaggle.com/code/kanncaa1/pytorch-tutorial-for-deep-learning-lovers/notebook\n",
        "\n",
        "\n",
        "Since I want to use MNIST dataset for this project, I looked though some basic of MNIST and how to load it. I could, therefore, know how much of a performance I could achieve using 2 layer NN. \n",
        "\n",
        "Link: http://yann.lecun.com/exdb/mnist/ https://pytorch.org/vision/stable/generated/torchvision.datasets.MNIST.html#torchvision.datasets.MNIST\n",
        "\n",
        "Overall, I need torch.nn to create my NN network structure and loss function, torchvision.datasets to load my MNIST dataset, torch.optim to define my optimizer, torchvision.transforms.ToTensor to transfer my data into tensor. \n",
        "\n",
        "\n"
      ],
      "metadata": {
        "id": "tlu7fg-ex5Z0"
      }
    },
    {
      "cell_type": "code",
      "execution_count": 2,
      "metadata": {
        "id": "z9PIg5IvrcKD"
      },
      "outputs": [],
      "source": [
        "import numpy as np\n",
        "import torch\n",
        "import torch.nn as nn\n",
        "import torch.nn.functional as F\n",
        "import torch.optim as optim\n",
        "from torchvision import datasets\n",
        "from torchvision.transforms import ToTensor\n",
        "import matplotlib.pyplot as plt\n",
        "import seaborn as sns\n",
        "torch.manual_seed(9)\n",
        "device = torch.device(\"cuda:0\" if torch.cuda.is_available() else \"cpu\")"
      ]
    },
    {
      "cell_type": "markdown",
      "source": [
        "**load and split dataset**"
      ],
      "metadata": {
        "id": "JYhnKkmm6kr8"
      }
    },
    {
      "cell_type": "code",
      "source": [
        "train_data = datasets.MNIST(\n",
        "    root = 'data',\n",
        "    train = True,                         \n",
        "    transform = ToTensor(), \n",
        "    download = True,            \n",
        ")\n",
        "test_data = datasets.MNIST(\n",
        "    root = 'data', \n",
        "    train = False, \n",
        "    transform = ToTensor()\n",
        ")\n",
        "\n",
        "val_data, test_data = torch.utils.data.random_split(test_data, [5000,5000])"
      ],
      "metadata": {
        "id": "f5t9J3PssPNS",
        "colab": {
          "base_uri": "https://localhost:8080/",
          "height": 423,
          "referenced_widgets": [
            "d3c557fcadce4ef1a14e0457f499fdca",
            "ae1b44658edb4d34810a6c27559cd416",
            "f161defbd0504d5c88f17984a17d06df",
            "bad69d4efba34ec6b41379db05e2396f",
            "c82c59a4c7e24369999f7610848c537f",
            "ef79c5de26374c27aca494551a62e561",
            "ca2466881943422c92c66f26f150db41",
            "88fd5004c0434ba8ab287b3785a00229",
            "20d748adf90e4853b88f27e58380ea0c",
            "def12e2e5a654dffb43a3d032b32e4d8",
            "acf860571dba4b7cb85e08da237303ce",
            "293398831d5045a99983b8fbad980e2f",
            "b8cec9ce189a4e9f94f177c62a5540b3",
            "b7da483a8ddb433b9abd154b1a54d230",
            "6fdfa18d5eca4fb2a579f81aa0b143c9",
            "8cb8bd18d63e4650beca950bdbe74248",
            "99a7891f5e0d449d8e6718f54a129ba8",
            "d61bb198d7f54922b298ab20ed67673e",
            "62de98c598024807a391df852d54bdd2",
            "6a879cd0c9434d09a367f704049bbd99",
            "4e3e21fc04be49a1a6ec5b9408019017",
            "a08904b2612f4f5285e48a2abdabc83b",
            "6b72ee52c81f4462bd491619fccdafbc",
            "0de70d75575a4a79b48a86ab4135e710",
            "5247283411594fc9b3893a6c0e2ebeed",
            "fd912a3a714a43c494b6b2a3957ef671",
            "4beaa68a3e9e40c4a0d4c846b1e1a1df",
            "a86a71e8698a4e7eb5df086bca8fa02e",
            "22b2ece2352243dba01121157145f4f9",
            "85655f30f44d44428642f5b171687c3a",
            "9579d11bc7314909aca6fd54333582bb",
            "b13f4e3bb3fa4b3c955047a76db731eb",
            "12f1b8dec38947409b42d945eb00e02d",
            "fb276e3a45ba43b18008aa532df3cc02",
            "a74f587256314d959f4b5865d281d5db",
            "5fa31ecc82b84a3d8f1a972d34dca327",
            "ea8ba663db314391bc85c62848d5837b",
            "49b1e4160a3f45e5a28678426e62cff9",
            "c1e1eccaf747482a9f010570d8d9929b",
            "60c8de923dfa4651b07717f94998363e",
            "1aeead3ffad5446796107461baeea955",
            "fa50b33992b74169a0c0c608444d05c5",
            "75e7f6712f774f30a0a64b831776faaf",
            "c9e7b45372b446bf867d165f5831c4da"
          ]
        },
        "outputId": "eb28bc9d-d85d-48e8-c5bd-8d53e2b44350"
      },
      "execution_count": 3,
      "outputs": [
        {
          "output_type": "stream",
          "name": "stdout",
          "text": [
            "Downloading http://yann.lecun.com/exdb/mnist/train-images-idx3-ubyte.gz\n",
            "Downloading http://yann.lecun.com/exdb/mnist/train-images-idx3-ubyte.gz to data/MNIST/raw/train-images-idx3-ubyte.gz\n"
          ]
        },
        {
          "output_type": "display_data",
          "data": {
            "text/plain": [
              "  0%|          | 0/9912422 [00:00<?, ?it/s]"
            ],
            "application/vnd.jupyter.widget-view+json": {
              "version_major": 2,
              "version_minor": 0,
              "model_id": "d3c557fcadce4ef1a14e0457f499fdca"
            }
          },
          "metadata": {}
        },
        {
          "output_type": "stream",
          "name": "stdout",
          "text": [
            "Extracting data/MNIST/raw/train-images-idx3-ubyte.gz to data/MNIST/raw\n",
            "\n",
            "Downloading http://yann.lecun.com/exdb/mnist/train-labels-idx1-ubyte.gz\n",
            "Downloading http://yann.lecun.com/exdb/mnist/train-labels-idx1-ubyte.gz to data/MNIST/raw/train-labels-idx1-ubyte.gz\n"
          ]
        },
        {
          "output_type": "display_data",
          "data": {
            "text/plain": [
              "  0%|          | 0/28881 [00:00<?, ?it/s]"
            ],
            "application/vnd.jupyter.widget-view+json": {
              "version_major": 2,
              "version_minor": 0,
              "model_id": "293398831d5045a99983b8fbad980e2f"
            }
          },
          "metadata": {}
        },
        {
          "output_type": "stream",
          "name": "stdout",
          "text": [
            "Extracting data/MNIST/raw/train-labels-idx1-ubyte.gz to data/MNIST/raw\n",
            "\n",
            "Downloading http://yann.lecun.com/exdb/mnist/t10k-images-idx3-ubyte.gz\n",
            "Downloading http://yann.lecun.com/exdb/mnist/t10k-images-idx3-ubyte.gz to data/MNIST/raw/t10k-images-idx3-ubyte.gz\n"
          ]
        },
        {
          "output_type": "display_data",
          "data": {
            "text/plain": [
              "  0%|          | 0/1648877 [00:00<?, ?it/s]"
            ],
            "application/vnd.jupyter.widget-view+json": {
              "version_major": 2,
              "version_minor": 0,
              "model_id": "6b72ee52c81f4462bd491619fccdafbc"
            }
          },
          "metadata": {}
        },
        {
          "output_type": "stream",
          "name": "stdout",
          "text": [
            "Extracting data/MNIST/raw/t10k-images-idx3-ubyte.gz to data/MNIST/raw\n",
            "\n",
            "Downloading http://yann.lecun.com/exdb/mnist/t10k-labels-idx1-ubyte.gz\n",
            "Downloading http://yann.lecun.com/exdb/mnist/t10k-labels-idx1-ubyte.gz to data/MNIST/raw/t10k-labels-idx1-ubyte.gz\n"
          ]
        },
        {
          "output_type": "display_data",
          "data": {
            "text/plain": [
              "  0%|          | 0/4542 [00:00<?, ?it/s]"
            ],
            "application/vnd.jupyter.widget-view+json": {
              "version_major": 2,
              "version_minor": 0,
              "model_id": "fb276e3a45ba43b18008aa532df3cc02"
            }
          },
          "metadata": {}
        },
        {
          "output_type": "stream",
          "name": "stdout",
          "text": [
            "Extracting data/MNIST/raw/t10k-labels-idx1-ubyte.gz to data/MNIST/raw\n",
            "\n"
          ]
        }
      ]
    },
    {
      "cell_type": "code",
      "source": [
        "fig, axes = plt.subplots(ncols=10, sharex=False, \n",
        "    sharey=True, figsize=(10, 4))\n",
        "for i in range(10):\n",
        "    x, y = train_data[i]\n",
        "    axes[i].set_title(y)\n",
        "    axes[i].imshow(x.view(28,28), cmap='gray')\n",
        "    axes[i].get_xaxis().set_visible(False)\n",
        "    axes[i].get_yaxis().set_visible(False)\n",
        "plt.show()"
      ],
      "metadata": {
        "id": "AICvSPyYHba0",
        "colab": {
          "base_uri": "https://localhost:8080/",
          "height": 98
        },
        "outputId": "4dde5599-0271-4f86-ba20-94363b9c3915"
      },
      "execution_count": 4,
      "outputs": [
        {
          "output_type": "display_data",
          "data": {
            "text/plain": [
              "<Figure size 720x288 with 10 Axes>"
            ],
            "image/png": "[encoded data removed]"
          },
          "metadata": {
            "needs_background": "light"
          }
        }
      ]
    },
    {
      "cell_type": "code",
      "source": [
        "labels = [ each[1] for each in train_data]\n",
        "sns.countplot(x=labels, color=\"purple\")\n",
        "plt.title(\"Distribution of Digits\")\n",
        "plt.xlabel(\"Image Label\")\n",
        "plt.ylabel(\"Count\")"
      ],
      "metadata": {
        "id": "hJO0j4yZKrFm",
        "colab": {
          "base_uri": "https://localhost:8080/",
          "height": 312
        },
        "outputId": "2851f9ac-618e-448d-87fa-e7b52478f1ba"
      },
      "execution_count": 5,
      "outputs": [
        {
          "output_type": "execute_result",
          "data": {
            "text/plain": [
              "Text(0, 0.5, 'Count')"
            ]
          },
          "metadata": {},
          "execution_count": 5
        },
        {
          "output_type": "display_data",
          "data": {
            "text/plain": [
              "<Figure size 432x288 with 1 Axes>"
            ],
            "image/png": "[encoded data removed]"
          },
          "metadata": {
            "needs_background": "light"
          }
        }
      ]
    },
    {
      "cell_type": "markdown",
      "source": [
        "# Create NN and Train\n"
      ],
      "metadata": {
        "id": "Solu0Xf36Tgx"
      }
    },
    {
      "cell_type": "markdown",
      "source": [
        "**Hyperparameters**"
      ],
      "metadata": {
        "id": "Fn4GoRk26np-"
      }
    },
    {
      "cell_type": "code",
      "source": [
        "epoch = 10\n",
        "batch = 64 \n",
        "lr = 0.01 \n",
        "momentum = 0.9"
      ],
      "metadata": {
        "id": "pJHIi00iXcP0"
      },
      "execution_count": 6,
      "outputs": []
    },
    {
      "cell_type": "code",
      "source": [
        "train_loader = torch.utils.data.DataLoader(dataset = train_data, batch_size = batch, shuffle = True)\n",
        "val_loader = torch.utils.data.DataLoader(dataset = val_data, batch_size = 1000, shuffle = True)\n",
        "test_loader = torch.utils.data.DataLoader(dataset = test_data, batch_size = 1000, shuffle = True)"
      ],
      "metadata": {
        "id": "eLQbhuIsj_Si"
      },
      "execution_count": 7,
      "outputs": []
    },
    {
      "cell_type": "markdown",
      "source": [
        "**define out neural network**"
      ],
      "metadata": {
        "id": "yv1nYqON6Z0r"
      }
    },
    {
      "cell_type": "code",
      "source": [
        "class Net(nn.Module):\n",
        "  def __init__(self):\n",
        "    super(Net, self).__init__()\n",
        "    self.linear1 = nn.Linear(28 * 28, 256)\n",
        "    self.linear2 = nn.Linear(256, 10)\n",
        "    self.relu = nn.ReLU()\n",
        "\n",
        "\n",
        "  def forward(self, x):\n",
        "    x = self.linear1(x)\n",
        "    x = self.relu(x)\n",
        "    x = self.linear2(x)\n",
        "    return x"
      ],
      "metadata": {
        "id": "MeiRMwkwqipu"
      },
      "execution_count": 8,
      "outputs": []
    },
    {
      "cell_type": "code",
      "source": [
        "model = Net().to(device)\n",
        "optimizer = optim.SGD(model.parameters(), lr = lr, momentum = momentum)\n",
        "criterion  = nn.CrossEntropyLoss()"
      ],
      "metadata": {
        "id": "NLl8jypJVrqE"
      },
      "execution_count": 9,
      "outputs": []
    },
    {
      "cell_type": "code",
      "source": [
        "epochlist = [e for e in range(epoch)]\n",
        "trainLoss = []\n",
        "trainAcc = []\n",
        "valLoss = []\n",
        "valAcc = []\n",
        "\n",
        "\n",
        "for e in range(epoch):\n",
        "  #Train\n",
        "  \n",
        "  correct = 0\n",
        "  totalLoss = 0\n",
        "  model.train()\n",
        "  for i, (x, y) in enumerate(train_loader):\n",
        "    x, y = x.to(device), y.to(device)\n",
        "    optimizer.zero_grad()\n",
        "\n",
        "    y_pred = model(x.view(-1, 28*28))\n",
        "    loss = criterion(y_pred, y)\n",
        "    loss.backward()\n",
        "    optimizer.step()\n",
        "    label = y_pred.argmax(dim=1, keepdim=True)\n",
        "    correct += label.eq(y.view_as(label)).sum().item()\n",
        "    totalLoss += loss.item()\n",
        "\n",
        "    if i % 50 == 0:\n",
        "      print(f\"Training...epoch: {e}, loss: {loss.item()}\")\n",
        "  trainAcc.append(correct / len(train_loader.dataset))\n",
        "  trainLoss.append(totalLoss / len(train_loader))\n",
        "  \n",
        "\n",
        "  #Validation\n",
        "  correct = 0\n",
        "  loss = 0\n",
        "  model.eval()\n",
        "  with torch.no_grad():\n",
        "    for i, (x, y) in enumerate(val_loader):\n",
        "      x, y = x.to(device), y.to(device)\n",
        "      y_pred = model(x.view(-1,28*28))\n",
        "      loss += criterion(y_pred, y).item()\n",
        "      label = y_pred.argmax(dim=1, keepdim=True)\n",
        "      correct += label.eq(y.view_as(label)).sum().item()\n",
        "\n",
        "  loss /= len(val_loader)\n",
        "  acc = correct / len(val_loader.dataset)\n",
        "  print(f\"Validation...epoch: {e}, loss : {loss}, acc: {acc}\")\n",
        "  valAcc.append(acc)\n",
        "  valLoss.append(loss)\n"
      ],
      "metadata": {
        "id": "ACmeYHoDl9NQ",
        "colab": {
          "base_uri": "https://localhost:8080/"
        },
        "outputId": "6f5661f2-6844-4681-a3ef-003b7e945694"
      },
      "execution_count": 10,
      "outputs": [
        {
          "output_type": "stream",
          "name": "stdout",
          "text": [
            "Training...epoch: 0, loss: 2.288153648376465\n",
            "Training...epoch: 0, loss: 1.3703818321228027\n",
            "Training...epoch: 0, loss: 0.5616044402122498\n",
            "Training...epoch: 0, loss: 0.541380763053894\n",
            "Training...epoch: 0, loss: 0.43863561749458313\n",
            "Training...epoch: 0, loss: 0.26365959644317627\n",
            "Training...epoch: 0, loss: 0.3323659300804138\n",
            "Training...epoch: 0, loss: 0.3026951849460602\n",
            "Training...epoch: 0, loss: 0.3872958719730377\n",
            "Training...epoch: 0, loss: 0.2580329477787018\n",
            "Training...epoch: 0, loss: 0.33032938838005066\n",
            "Training...epoch: 0, loss: 0.2669133245944977\n",
            "Training...epoch: 0, loss: 0.5156908631324768\n",
            "Training...epoch: 0, loss: 0.4410970211029053\n",
            "Training...epoch: 0, loss: 0.42949673533439636\n",
            "Training...epoch: 0, loss: 0.36751893162727356\n",
            "Training...epoch: 0, loss: 0.2242804914712906\n",
            "Training...epoch: 0, loss: 0.22974298894405365\n",
            "Training...epoch: 0, loss: 0.3636850118637085\n",
            "Validation...epoch: 0, loss : 0.25003641545772554, acc: 0.932\n",
            "Training...epoch: 1, loss: 0.2083820402622223\n",
            "Training...epoch: 1, loss: 0.24495412409305573\n",
            "Training...epoch: 1, loss: 0.3700210750102997\n",
            "Training...epoch: 1, loss: 0.10044288635253906\n",
            "Training...epoch: 1, loss: 0.3691238462924957\n",
            "Training...epoch: 1, loss: 0.15412119030952454\n",
            "Training...epoch: 1, loss: 0.34352391958236694\n",
            "Training...epoch: 1, loss: 0.23043903708457947\n",
            "Training...epoch: 1, loss: 0.2934407591819763\n",
            "Training...epoch: 1, loss: 0.2814369797706604\n",
            "Training...epoch: 1, loss: 0.14931653439998627\n",
            "Training...epoch: 1, loss: 0.12406011670827866\n",
            "Training...epoch: 1, loss: 0.10941633582115173\n",
            "Training...epoch: 1, loss: 0.33973339200019836\n",
            "Training...epoch: 1, loss: 0.12363344430923462\n",
            "Training...epoch: 1, loss: 0.2245148867368698\n",
            "Training...epoch: 1, loss: 0.19086061418056488\n",
            "Training...epoch: 1, loss: 0.23655325174331665\n",
            "Training...epoch: 1, loss: 0.19344143569469452\n",
            "Validation...epoch: 1, loss : 0.18486160933971404, acc: 0.9488\n",
            "Training...epoch: 2, loss: 0.10426901280879974\n",
            "Training...epoch: 2, loss: 0.2336217612028122\n",
            "Training...epoch: 2, loss: 0.08415106683969498\n",
            "Training...epoch: 2, loss: 0.1369296759366989\n",
            "Training...epoch: 2, loss: 0.19978126883506775\n",
            "Training...epoch: 2, loss: 0.19617754220962524\n",
            "Training...epoch: 2, loss: 0.07995365560054779\n",
            "Training...epoch: 2, loss: 0.17456305027008057\n",
            "Training...epoch: 2, loss: 0.11666341125965118\n",
            "Training...epoch: 2, loss: 0.12552177906036377\n",
            "Training...epoch: 2, loss: 0.2739386558532715\n",
            "Training...epoch: 2, loss: 0.09599462896585464\n",
            "Training...epoch: 2, loss: 0.2542104721069336\n",
            "Training...epoch: 2, loss: 0.19257518649101257\n",
            "Training...epoch: 2, loss: 0.18196016550064087\n",
            "Training...epoch: 2, loss: 0.07630319893360138\n",
            "Training...epoch: 2, loss: 0.18076802790164948\n",
            "Training...epoch: 2, loss: 0.14410558342933655\n",
            "Training...epoch: 2, loss: 0.1690000593662262\n",
            "Validation...epoch: 2, loss : 0.14182802587747573, acc: 0.96\n",
            "Training...epoch: 3, loss: 0.13991573452949524\n",
            "Training...epoch: 3, loss: 0.19342514872550964\n",
            "Training...epoch: 3, loss: 0.10664913058280945\n",
            "Training...epoch: 3, loss: 0.1318860799074173\n",
            "Training...epoch: 3, loss: 0.10849523544311523\n",
            "Training...epoch: 3, loss: 0.08030723035335541\n",
            "Training...epoch: 3, loss: 0.04874277114868164\n",
            "Training...epoch: 3, loss: 0.2632414698600769\n",
            "Training...epoch: 3, loss: 0.12494532018899918\n",
            "Training...epoch: 3, loss: 0.18922005593776703\n",
            "Training...epoch: 3, loss: 0.060721468180418015\n",
            "Training...epoch: 3, loss: 0.1237349733710289\n",
            "Training...epoch: 3, loss: 0.16257302463054657\n",
            "Training...epoch: 3, loss: 0.11699360609054565\n",
            "Training...epoch: 3, loss: 0.053749993443489075\n",
            "Training...epoch: 3, loss: 0.1102227121591568\n",
            "Training...epoch: 3, loss: 0.05124657601118088\n",
            "Training...epoch: 3, loss: 0.17891767621040344\n",
            "Training...epoch: 3, loss: 0.06527066230773926\n",
            "Validation...epoch: 3, loss : 0.12032345980405808, acc: 0.9646\n",
            "Training...epoch: 4, loss: 0.1289626657962799\n",
            "Training...epoch: 4, loss: 0.17485298216342926\n",
            "Training...epoch: 4, loss: 0.20019815862178802\n",
            "Training...epoch: 4, loss: 0.05566711351275444\n",
            "Training...epoch: 4, loss: 0.0628616213798523\n",
            "Training...epoch: 4, loss: 0.17505189776420593\n",
            "Training...epoch: 4, loss: 0.1457032859325409\n",
            "Training...epoch: 4, loss: 0.1211325153708458\n",
            "Training...epoch: 4, loss: 0.12846143543720245\n",
            "Training...epoch: 4, loss: 0.12443415075540543\n",
            "Training...epoch: 4, loss: 0.04147956520318985\n",
            "Training...epoch: 4, loss: 0.09740524739027023\n",
            "Training...epoch: 4, loss: 0.10687882453203201\n",
            "Training...epoch: 4, loss: 0.09186869114637375\n",
            "Training...epoch: 4, loss: 0.09266838431358337\n",
            "Training...epoch: 4, loss: 0.04242727905511856\n",
            "Training...epoch: 4, loss: 0.0786881074309349\n",
            "Training...epoch: 4, loss: 0.13157609105110168\n",
            "Training...epoch: 4, loss: 0.20359133183956146\n",
            "Validation...epoch: 4, loss : 0.10840360075235367, acc: 0.97\n",
            "Training...epoch: 5, loss: 0.06147279217839241\n",
            "Training...epoch: 5, loss: 0.07597649842500687\n",
            "Training...epoch: 5, loss: 0.2706173062324524\n",
            "Training...epoch: 5, loss: 0.05663978308439255\n",
            "Training...epoch: 5, loss: 0.09676827490329742\n",
            "Training...epoch: 5, loss: 0.08176550269126892\n",
            "Training...epoch: 5, loss: 0.1261204332113266\n",
            "Training...epoch: 5, loss: 0.23176802694797516\n",
            "Training...epoch: 5, loss: 0.06613913178443909\n",
            "Training...epoch: 5, loss: 0.10334861278533936\n",
            "Training...epoch: 5, loss: 0.07469240576028824\n",
            "Training...epoch: 5, loss: 0.08408289402723312\n",
            "Training...epoch: 5, loss: 0.018013088032603264\n",
            "Training...epoch: 5, loss: 0.08835069835186005\n",
            "Training...epoch: 5, loss: 0.0691947489976883\n",
            "Training...epoch: 5, loss: 0.097321055829525\n",
            "Training...epoch: 5, loss: 0.11818292737007141\n",
            "Training...epoch: 5, loss: 0.06473458558320999\n",
            "Training...epoch: 5, loss: 0.029563983902335167\n",
            "Validation...epoch: 5, loss : 0.0997423768043518, acc: 0.972\n",
            "Training...epoch: 6, loss: 0.11989695578813553\n",
            "Training...epoch: 6, loss: 0.09467694163322449\n",
            "Training...epoch: 6, loss: 0.016818923875689507\n",
            "Training...epoch: 6, loss: 0.09751690179109573\n",
            "Training...epoch: 6, loss: 0.06730296462774277\n",
            "Training...epoch: 6, loss: 0.1254526525735855\n",
            "Training...epoch: 6, loss: 0.08645233511924744\n",
            "Training...epoch: 6, loss: 0.13261860609054565\n",
            "Training...epoch: 6, loss: 0.04197779297828674\n",
            "Training...epoch: 6, loss: 0.05890943482518196\n",
            "Training...epoch: 6, loss: 0.0625951737165451\n",
            "Training...epoch: 6, loss: 0.05150681361556053\n",
            "Training...epoch: 6, loss: 0.05771097168326378\n",
            "Training...epoch: 6, loss: 0.024835508316755295\n",
            "Training...epoch: 6, loss: 0.13222554326057434\n",
            "Training...epoch: 6, loss: 0.15008850395679474\n",
            "Training...epoch: 6, loss: 0.03197268396615982\n",
            "Training...epoch: 6, loss: 0.07566385716199875\n",
            "Training...epoch: 6, loss: 0.11614714562892914\n",
            "Validation...epoch: 6, loss : 0.0909466415643692, acc: 0.9734\n",
            "Training...epoch: 7, loss: 0.02409631572663784\n",
            "Training...epoch: 7, loss: 0.047203417867422104\n",
            "Training...epoch: 7, loss: 0.06664281338453293\n",
            "Training...epoch: 7, loss: 0.02724866010248661\n",
            "Training...epoch: 7, loss: 0.14766979217529297\n",
            "Training...epoch: 7, loss: 0.020866109058260918\n",
            "Training...epoch: 7, loss: 0.07411094009876251\n",
            "Training...epoch: 7, loss: 0.026408549398183823\n",
            "Training...epoch: 7, loss: 0.10512644052505493\n",
            "Training...epoch: 7, loss: 0.05457916483283043\n",
            "Training...epoch: 7, loss: 0.08152326196432114\n",
            "Training...epoch: 7, loss: 0.05566916987299919\n",
            "Training...epoch: 7, loss: 0.04976377263665199\n",
            "Training...epoch: 7, loss: 0.03200305998325348\n",
            "Training...epoch: 7, loss: 0.04314221814274788\n",
            "Training...epoch: 7, loss: 0.08496968448162079\n",
            "Training...epoch: 7, loss: 0.0946241095662117\n",
            "Training...epoch: 7, loss: 0.06761696934700012\n",
            "Training...epoch: 7, loss: 0.0740545392036438\n",
            "Validation...epoch: 7, loss : 0.08419590294361115, acc: 0.9764\n",
            "Training...epoch: 8, loss: 0.041752889752388\n",
            "Training...epoch: 8, loss: 0.041246626526117325\n",
            "Training...epoch: 8, loss: 0.011072356253862381\n",
            "Training...epoch: 8, loss: 0.1350603848695755\n",
            "Training...epoch: 8, loss: 0.08751809597015381\n",
            "Training...epoch: 8, loss: 0.10791068524122238\n",
            "Training...epoch: 8, loss: 0.07311646640300751\n",
            "Training...epoch: 8, loss: 0.027590446174144745\n",
            "Training...epoch: 8, loss: 0.06653188914060593\n",
            "Training...epoch: 8, loss: 0.024394124746322632\n",
            "Training...epoch: 8, loss: 0.03572067990899086\n",
            "Training...epoch: 8, loss: 0.07920190691947937\n",
            "Training...epoch: 8, loss: 0.02772185020148754\n",
            "Training...epoch: 8, loss: 0.03509491682052612\n",
            "Training...epoch: 8, loss: 0.1084236204624176\n",
            "Training...epoch: 8, loss: 0.057615119963884354\n",
            "Training...epoch: 8, loss: 0.05561855807900429\n",
            "Training...epoch: 8, loss: 0.03067612648010254\n",
            "Training...epoch: 8, loss: 0.045320477336645126\n",
            "Validation...epoch: 8, loss : 0.08129275143146515, acc: 0.9766\n",
            "Training...epoch: 9, loss: 0.04988384619355202\n",
            "Training...epoch: 9, loss: 0.034921564161777496\n",
            "Training...epoch: 9, loss: 0.03686335310339928\n",
            "Training...epoch: 9, loss: 0.0527673065662384\n",
            "Training...epoch: 9, loss: 0.0127426041290164\n",
            "Training...epoch: 9, loss: 0.03301367536187172\n",
            "Training...epoch: 9, loss: 0.032426442950963974\n",
            "Training...epoch: 9, loss: 0.05018286406993866\n",
            "Training...epoch: 9, loss: 0.14014290273189545\n",
            "Training...epoch: 9, loss: 0.049751803278923035\n",
            "Training...epoch: 9, loss: 0.09160783141851425\n",
            "Training...epoch: 9, loss: 0.0636734664440155\n",
            "Training...epoch: 9, loss: 0.011929829604923725\n",
            "Training...epoch: 9, loss: 0.023890797048807144\n",
            "Training...epoch: 9, loss: 0.02376025728881359\n",
            "Training...epoch: 9, loss: 0.0249103382229805\n",
            "Training...epoch: 9, loss: 0.026558760553598404\n",
            "Training...epoch: 9, loss: 0.12678280472755432\n",
            "Training...epoch: 9, loss: 0.023396916687488556\n",
            "Validation...epoch: 9, loss : 0.0780183158814907, acc: 0.9778\n"
          ]
        }
      ]
    },
    {
      "cell_type": "code",
      "source": [
        "plt.title(\"Loss\")\n",
        "plt.plot(epochlist, trainLoss, label = \"train\" )\n",
        "plt.plot(epochlist, valLoss, label = \"Val\")\n",
        "plt.legend()\n",
        "plt.show()\n",
        "\n",
        "plt.title(\"Accuracy\")\n",
        "plt.plot(epochlist, trainAcc, label = \"Acc\" )\n",
        "plt.plot(epochlist, valAcc, label = \"Val\" )\n",
        "plt.legend()\n",
        "plt.show()"
      ],
      "metadata": {
        "id": "bZeepqLNfxkv",
        "colab": {
          "base_uri": "https://localhost:8080/",
          "height": 545
        },
        "outputId": "9a0e585f-cd0c-4526-aefb-8d069b2a98c3"
      },
      "execution_count": 11,
      "outputs": [
        {
          "output_type": "display_data",
          "data": {
            "text/plain": [
              "<Figure size 432x288 with 1 Axes>"
            ],
            "image/png": "[encoded data removed]"
          },
          "metadata": {
            "needs_background": "light"
          }
        },
        {
          "output_type": "display_data",
          "data": {
            "text/plain": [
              "<Figure size 432x288 with 1 Axes>"
            ],
            "image/png": "[encoded data removed]"
          },
          "metadata": {
            "needs_background": "light"
          }
        }
      ]
    },
    {
      "cell_type": "code",
      "source": [
        "correct = 0\n",
        "model.eval()\n",
        "for x, y in test_loader:\n",
        "  x,y = x.to(device), y.to(device)\n",
        "  y_pred = model(x.view(-1,28 * 28))\n",
        "  label = y_pred.argmax(dim = 1)\n",
        "  correct += label.eq(y.view_as(label)).sum().item()\n",
        "\n",
        "acc = correct / len(test_loader.dataset)\n",
        "print(f\"Testing Accuracy: {acc}\")"
      ],
      "metadata": {
        "id": "T7BgacNjcR9i",
        "colab": {
          "base_uri": "https://localhost:8080/"
        },
        "outputId": "cd070a8c-960d-4334-83e8-bebbdf7fb03f"
      },
      "execution_count": 12,
      "outputs": [
        {
          "output_type": "stream",
          "name": "stdout",
          "text": [
            "Testing Accuracy: 0.9772\n"
          ]
        }
      ]
    },
    {
      "cell_type": "markdown",
      "source": [
        "**Hyperparameters**\n",
        "\n",
        "**epoch**: I initialize set epoch to 10, which doesn't show a sign of overfitting bese on the graph above. However, I also tried 20 and there is clearly overfitting start epoch 15 and so. The sweet spot of epoch should be around 8~12. \n",
        "\n",
        "**Batch**: I set batch to 64. I initially set my batch to a larger number, which lead a very poor training accuracy. I think this is because our gradient had stucked into a local minimum. \n",
        "\n",
        "**lr (Learning rate)**: I initialize set my lr to 0.001. However, the accuracy within 10 epoch could surpass 90%. This is a sign of underfitting. Therefore, I raise my lr to 0.01 and my model converge fairly quickly and result to a high testing and validation accuracy.\n",
        "\n",
        "**Momentum**: I didn't change much in terms of momentum. I set this one to 0.9 as suggested. \n",
        "\n",
        "I didn't use any form of regularization. This is because my model doesn't show a quick overfitting and, therefore, using regularization isn't optimal. \n",
        "\n",
        "There are two hidden layer in my NN and both of them are nn.Linear. I used ReLU in between to keep this simple. In my two hidden layer, I down scale my 784 features into 256, then to 10. The final 10 will correspond my targeted output. I used SDG + momentum as my optimizer. I also tried Adam, Adagrad, and Adadelta. However, I think SDG is good enough for this task, whereas other three optimizers mention above could lead to a faster converging (faster overfitting of course). \n"
      ],
      "metadata": {
        "id": "g5P-n6Jt4xK8"
      }
    },
    {
      "cell_type": "markdown",
      "source": [
        "# Decision Tree"
      ],
      "metadata": {
        "id": "snTINlyVk4LL"
      }
    },
    {
      "cell_type": "code",
      "source": [
        "from sklearn import tree \n",
        "from sklearn.metrics import accuracy_score"
      ],
      "metadata": {
        "id": "Kt8KPXzFlrE0"
      },
      "execution_count": 13,
      "outputs": []
    },
    {
      "cell_type": "code",
      "source": [
        "train_data = datasets.MNIST('./data', train=True, download=True).data.numpy()\n",
        "test_data = datasets.MNIST('./data', train=False, download=True).data.numpy()\n",
        "\n",
        "train = []\n",
        "for each in train_data:\n",
        "  train.append(each.flatten())\n",
        "\n",
        "test = []\n",
        "for each in test_data:\n",
        "  test.append(each.flatten())\n",
        "\n",
        "train_data = np.array(train).astype(float)\n",
        "test_data = np.array(test).astype(float)\n",
        "\n",
        "train_target = datasets.MNIST('./data', train=True, download=True).targets.numpy()\n",
        "test_target = datasets.MNIST('./data', train=False, download=True).targets.numpy()\n",
        "\n",
        "model = tree.DecisionTreeClassifier()\n",
        "model = model.fit(train_data, train_target)\n",
        "\n",
        "pred = model.predict(test_data)\n",
        "dtacc = accuracy_score(pred, test_target)\n",
        "\n",
        "print(f\"Decision Tree Acc: {dtacc}\")"
      ],
      "metadata": {
        "id": "pBsS9pRFk3vq",
        "colab": {
          "base_uri": "https://localhost:8080/"
        },
        "outputId": "51c75766-28cb-479e-c526-78df541823c0"
      },
      "execution_count": 14,
      "outputs": [
        {
          "output_type": "stream",
          "name": "stdout",
          "text": [
            "Decision Tree Acc: 0.8767\n"
          ]
        }
      ]
    },
    {
      "cell_type": "code",
      "source": [
        "fig, ax = plt.subplots(figsize =(6, 3))\n",
        "\n",
        "model = (\"Decision Tree\", \"Neural Network\")\n",
        "score = (dtacc, acc)\n",
        "ax.barh(model, score)\n",
        "\n",
        "# Remove axes splines\n",
        "for s in ['top', 'bottom', 'left', 'right']:\n",
        "    ax.spines[s].set_visible(False)\n",
        "\n",
        "for i in ax.patches:\n",
        "    plt.text(i.get_width()+0.2, i.get_y()+0.5,\n",
        "             str(round((i.get_width()), 2)),\n",
        "             fontsize = 10, fontweight ='bold',\n",
        "             color ='grey')\n"
      ],
      "metadata": {
        "id": "nFcXCPqL1t5V",
        "colab": {
          "base_uri": "https://localhost:8080/",
          "height": 211
        },
        "outputId": "7dbc7d1f-39b5-43e5-a8ef-17a94fa0627a"
      },
      "execution_count": 15,
      "outputs": [
        {
          "output_type": "display_data",
          "data": {
            "text/plain": [
              "<Figure size 432x216 with 1 Axes>"
            ],
            "image/png": "[encoded data removed]"
          },
          "metadata": {
            "needs_background": "light"
          }
        }
      ]
    },
    {
      "cell_type": "markdown",
      "source": [
        "Result comparison shows a clearly sign of the fact that NN is outperform Decision Tree in MNIST dataset. The accuracy difference is about 10% in my implementation. The reason why NN perform so good is that NN could capture better pattern of 10 class classification. Decision Tree, however, could only draw straight lines in feature space. Therefore, couldn't capture such variance of pattern and difference between each class.  "
      ],
      "metadata": {
        "id": "Aq-5C01fbvJH"
      }
    }
  ]
}